{
  "nbformat": 4,
  "nbformat_minor": 0,
  "metadata": {
    "kernelspec": {
      "display_name": "Python 3",
      "language": "python",
      "name": "python3"
    },
    "language_info": {
      "codemirror_mode": {
        "name": "ipython",
        "version": 3
      },
      "file_extension": ".py",
      "mimetype": "text/x-python",
      "name": "python",
      "nbconvert_exporter": "python",
      "pygments_lexer": "ipython3",
      "version": "3.8.3"
    },
    "colab": {
      "name": "Kopi af Assignment2_andri_draft.ipynb",
      "provenance": [],
      "collapsed_sections": []
    }
  },
  "cells": [
    {
      "cell_type": "markdown",
      "metadata": {
        "id": "v5LHt8MQIQAP"
      },
      "source": [
        "# Imports and data initialization"
      ]
    },
    {
      "cell_type": "markdown",
      "metadata": {
        "id": "F5q6uEEXGLY3"
      },
      "source": [
        "##### Import libraries:"
      ]
    },
    {
      "cell_type": "code",
      "metadata": {
        "id": "lBXefH8zF3A4"
      },
      "source": [
        "import folium\n",
        "import pandas as pd\n",
        "import matplotlib.pyplot as plt\n",
        "import numpy as np\n",
        "from bokeh.plotting import figure, show, output_file\n",
        "from bokeh.io import output_notebook\n",
        "from bokeh.models import ColumnDataSource, FactorRange, Legend\n",
        "from bokeh.transform import factor_cmap\n",
        "from bokeh.palettes import viridis\n",
        "from sklearn.ensemble import RandomForestClassifier\n",
        "from sklearn.metrics import classification_report\n",
        "from sklearn.model_selection import cross_val_score\n",
        "\n",
        "output_notebook() # add bokeh output in notebook"
      ],
      "execution_count": 1,
      "outputs": []
    },
    {
      "cell_type": "markdown",
      "metadata": {
        "id": "ufj7gvcFGOXF"
      },
      "source": [
        "##### Load data:"
      ]
    },
    {
      "cell_type": "code",
      "metadata": {
        "colab": {
          "base_uri": "https://localhost:8080/"
        },
        "id": "3dG1GfcoFz7U",
        "outputId": "095d4d46-441f-4371-fadf-b9178f2ac1ed"
      },
      "source": [
        "# Connect to google drive\n",
        "from google.colab import drive\n",
        "drive.mount('/content/drive', force_remount=True)\n",
        "\n",
        "#Locally\n",
        "police_data_path_local = \"data/Police_Department_Incident_Reports__Historical_2003_to_May_2018.csv\"\n",
        "weather_data_path_local = \"data/weather_data.csv\""
      ],
      "execution_count": 2,
      "outputs": [
        {
          "output_type": "stream",
          "text": [
            "Mounted at /content/drive\n"
          ],
          "name": "stdout"
        }
      ]
    },
    {
      "cell_type": "code",
      "metadata": {
        "id": "Rsp1QHfgF4R_"
      },
      "source": [
        "# Add correct path for location of Police_Department_Incident_Reports__Historical_2003_to_May_2018.csv and weather_data.csv\n",
        "police_data_path = \"/content/drive/MyDrive/Social_Data_and_Visualisation/Police_Department_Incident_Reports__Historical_2003_to_May_2018.csv\"\n",
        "weather_data_path = \"/content/drive/MyDrive/Social_Data_and_Visualisation/weather_data.csv\"\n",
        "\n",
        "df = pd.read_csv(police_data_path)\n",
        "weather = pd.read_csv(weather_data_path, parse_dates=[\"date\"],\n",
        "                date_parser=lambda x: pd.to_datetime(x).tz_convert(None).tz_localize(\"Etc/GMT+3\").tz_convert(\"Etc/GMT-7\")) "
      ],
      "execution_count": 3,
      "outputs": []
    },
    {
      "cell_type": "markdown",
      "metadata": {
        "id": "uR3IrjTDGdkH"
      },
      "source": [
        "##### Add extra attributes to the data frame:"
      ]
    },
    {
      "cell_type": "code",
      "metadata": {
        "id": "ZCk6Iu1JF9XQ"
      },
      "source": [
        "df['Year'] = pd.DatetimeIndex(df['Date']).year\n",
        "df['Month'] = pd.DatetimeIndex(df['Date']).month\n",
        "df['Day'] = pd.DatetimeIndex(df['Date']).day\n",
        "df['Hour'] = [int(time[0:2]) for time in (df['Time'])]"
      ],
      "execution_count": 4,
      "outputs": []
    },
    {
      "cell_type": "markdown",
      "metadata": {
        "id": "Ooj4Czs7T68e"
      },
      "source": [
        "# Part 1: Questions to text and lectures"
      ]
    },
    {
      "cell_type": "markdown",
      "metadata": {
        "id": "9XhPx_IKUfUG"
      },
      "source": [
        "## A) Segal and Heer paper questions"
      ]
    },
    {
      "cell_type": "markdown",
      "metadata": {
        "id": "iGA8iQx-VCCW"
      },
      "source": [
        "### i) **What is the *Oxford Engish dictionary\\'s* definition of a narrative?**\n"
      ]
    },
    {
      "cell_type": "markdown",
      "metadata": {
        "id": "Og648I8vVCYW"
      },
      "source": [
        "###### **Answer**\n",
        "In the *Oxford English dictionary* **narrative** is defined as \\\"an\n",
        "account of series of events, facts, etc., given in order with the\n",
        "establishing of connections between them.\\\"\n"
      ]
    },
    {
      "cell_type": "markdown",
      "metadata": {
        "id": "95f5SjedVCn2"
      },
      "source": [
        "### ii) **What is your favorite visualization among the examples in section 3? Explain why in a few words.**\n"
      ]
    },
    {
      "cell_type": "markdown",
      "metadata": {
        "id": "UiBiu2ByVK7r"
      },
      "source": [
        "###### **Answer**\n",
        "Among the examples in section 3 our favourite would be number 3, *Budget\n",
        "Forecasts, Compared With Reality*. It is a realitvely simple visualization, utilizing a single frame and a consistent visual platform, while having interactive elements for the user to travel back and forth in the timeline and access further details on demand. In my opinion this visualization strikes a nice balance between consistency and interactivity, and provides a large amount of information while keeping the user engaged.\n"
      ]
    },
    {
      "cell_type": "markdown",
      "metadata": {
        "id": "BLfIl4XbVX9d"
      },
      "source": [
        "### iii) **What's the point of Figure 7?**"
      ]
    },
    {
      "cell_type": "markdown",
      "metadata": {
        "id": "OwBLIDweVeZF"
      },
      "source": [
        "###### **Answer**\n",
        "The point of figure 7 is to provide a way to characterize narrative\n",
        "visualizations, based on a series of features, structural choices,\n",
        "designs patterns and \\\"visualization genres\\\". It illustrates which features each media outlet did include in their papers and in the same time creates an overview of what features are more commonly forgotten or used.\n"
      ]
    },
    {
      "cell_type": "markdown",
      "metadata": {
        "id": "I1De92gPVbdl"
      },
      "source": [
        "### iv) **Use Figure 7 to find the most common design choice within each category for the Visual narrative and Narrative structure (the categories within visual narrative are \\\"visual structuring\", \\\"highlighting\\\", etc.)**\n"
      ]
    },
    {
      "cell_type": "markdown",
      "metadata": {
        "id": "d1K_XOUhVoll"
      },
      "source": [
        "###### **Answer**\n",
        "- Visual structuring : Here Consistent Visual Platform is the most popular. Which means that the paper keeps a consistent \"theme\" of the visualizations making it easier for the reader to quickly identify the purpose of the visualization.\n",
        "- Higlighting: Feature distinction is the most popular where different features at made distinct with labels or colors.\n",
        "- Transition Guidance: Object continuanity is the most popular one her\n",
        "- Ordering : User directed seem to be the most popular for for magazine, maps and posters while presentations, film and flow charts seem to be more linear\n",
        "- Interactivity : Here filtering , selection and search seem to be by far the most usesd while tacit tutorial and Stimulating Default views are less used.\n",
        "- Messaging: Here headlines are by far the most used.\n"
      ]
    },
    {
      "cell_type": "markdown",
      "metadata": {
        "id": "PL3HwwAgVttF"
      },
      "source": [
        "### v) **Check out Figure 8 and section 4.3. What is your favorite genre of narrative visualization? Why? What is your least favorite genre? Why?**\n"
      ]
    },
    {
      "cell_type": "markdown",
      "metadata": {
        "id": "KfqtV4xJVuhe"
      },
      "source": [
        "###### **Answer**\n",
        "Our favorite one is flow chart because it allows the reader to understand where he/she stands at each step and get good overview. Posters are by far the worst ones, probably because the often try to combine complicated visualizations with a lot of text."
      ]
    },
    {
      "cell_type": "markdown",
      "metadata": {
        "id": "C045hj1IUrH-"
      },
      "source": [
        "## B) Questions on *explanatory data visualization* video\n"
      ]
    },
    {
      "cell_type": "markdown",
      "metadata": {
        "id": "2V5xdgseWAY5"
      },
      "source": [
        "### i) **What are the three key elements to keep in mind when you design an explanatory visualization?**\n"
      ]
    },
    {
      "cell_type": "markdown",
      "metadata": {
        "id": "JwuS0qIBWAWl"
      },
      "source": [
        "###### **Answer**\n",
        "- Introduce the question (what is the result you want to communicate)\n",
        "- Allow exploration and interaction\n",
        "- Design with a specific audience in mind (who the readers are, e.g. academic, business, technical non-technical etc.)\n"
      ]
    },
    {
      "cell_type": "markdown",
      "metadata": {
        "id": "f2EmEdPQWAUB"
      },
      "source": [
        "### ii) **In the video I talk about (1) overview first, (2) zoom and filter, (3) details on demand.**"
      ]
    },
    {
      "cell_type": "markdown",
      "metadata": {
        "id": "z6lC-MbeakBu"
      },
      "source": [
        "#### 1. Go online and find a visualization that follows these principles (don\\'t use one from the video).\n",
        "\n",
        "#### 2. Explain how it does achieves (1)-(3). It might be useful to use screenshots to illustrate your explanation.\n"
      ]
    },
    {
      "cell_type": "markdown",
      "metadata": {
        "id": "u7QfO7bMWAR_"
      },
      "source": [
        "###### **Answer**\n",
        "\n",
        "At `covid19.compute.dtu.dk` there is a great plot about change in population size following all the principles with nice interactive features (watch picture below)\n",
        "\n",
        "https://covid19.compute.dtu.dk/visualizations/where_people_are_change_in_population_size/"
      ]
    },
    {
      "cell_type": "markdown",
      "metadata": {
        "id": "GeLzxL-meJCw"
      },
      "source": [
        "![PICTURE1.png](data:image/png;base64,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)"
      ]
    },
    {
      "cell_type": "markdown",
      "metadata": {
        "id": "4-TxzvwrWbBN"
      },
      "source": [
        "### iii) **Explain in your own words: How is explanatory data analysis different from exploratory data analysis?**\n"
      ]
    },
    {
      "cell_type": "markdown",
      "metadata": {
        "id": "mEdKLOm9We7d"
      },
      "source": [
        "###### **Answer**\n",
        "Explanatory data analysis is when you know something about the data and you want to communicate that. Exploratory on hte other hand is about exploring and finding something interesting in the data."
      ]
    },
    {
      "cell_type": "markdown",
      "metadata": {
        "id": "T5ngt-6SJj_x"
      },
      "source": [
        "# Part 2: Random forest and weather"
      ]
    },
    {
      "cell_type": "markdown",
      "metadata": {
        "id": "njAPvlK2MxdM"
      },
      "source": [
        "## **Part 2A: Random forest binary classification.**\n"
      ]
    },
    {
      "cell_type": "markdown",
      "metadata": {
        "id": "o48P6GcUMRs9"
      },
      "source": [
        "Part 2A: Random forest binary classification. \n",
        "* Using the and instructions and material from Week 7, build a *random forest* classifier to distinguish between two types (you choose) of crime using on spatio-temporal (where/when) features of data describing the two crimes. When you're done, you should be able to give the classifier a place and a time, and it should tell you which of the two  types of crime happened there.\n",
        "  - Explain about your choices for training/test data, features, and encoding. (You decide how to present your results, but here are some example topics to consider: Did you balance the training data? What are the pros/cons of balancing? Do you think your model is overfitting? Did you choose to do cross-validation? Which specific features did you end up using? Why? Which features (if any) did you one-hot encode? Why ... or why not?))\n",
        "  - Report accuracy. Discuss the model performance."
      ]
    },
    {
      "cell_type": "code",
      "metadata": {
        "id": "AaSBBPbNJj_x"
      },
      "source": [
        "# Filter data\n",
        "df_p2 = df[(pd.to_datetime(df['Date']) >= '01/01/2003')]\n",
        "df_p2 = df_p2[(pd.to_datetime(df['Date']) <= '31/12/2017')]\n",
        "\n",
        "## Creating balanced dataset\n",
        "df_filtered1 = df_p2[df_p2[\"Category\"]==(\"VEHICLE THEFT\")].sample(40000)\n",
        "df_filtered2 = df_p2[df_p2[\"Category\"]==(\"FRAUD\")].sample(40000)\n",
        "df_balanced = pd.concat([df_filtered1,df_filtered2]).sample(frac=1).reset_index()\n",
        "\n",
        "# One hot Encoding and factorizing the categorical target variable.\n",
        "X = pd.get_dummies(df_balanced[[\"PdDistrict\",\"Year\",\"Month\",\"Day\",\"Hour\"]])\n",
        "y = df_balanced[\"Category\"]\n",
        "y = y.factorize( ['VEHICLE THEFT', 'FRAUD'] )[0]\n",
        "\n",
        "\n",
        "# Using Skicit-learn to split data into training and testing sets\n",
        "from sklearn.model_selection import train_test_split\n",
        "# Split the data into training and testing sets\n",
        "train_features, test_features, train_labels, test_labels = train_test_split(X, y, test_size = 0.25)"
      ],
      "execution_count": 5,
      "outputs": []
    },
    {
      "cell_type": "markdown",
      "metadata": {
        "id": "vVPYUI_0hz4I"
      },
      "source": [
        "### **Explain about your choices for training/test data, features, and encoding. (You decide how to present your results, but here are some example topics to consider: Did you balance the training data? What are the pros/cons of balancing? Do you think your model is overfitting? Did you choose to do cross-validation? Which specific features did you end up using? Why? Which features (if any) did you one-hot encode? Why ... or why not?))**"
      ]
    },
    {
      "cell_type": "markdown",
      "metadata": {
        "id": "SGrLq441Jj_y"
      },
      "source": [
        "**Answer**\n",
        "\n",
        "To begin with the data is loaded, filtered for dates from 2003-2018 and then \"Month of the year\" and \"Time of the day\" columns added according to instructions. The we draw equal amounts of observations from each category in order to maintain balance in the data set Having such a balanced data set ensures that the model is gets euqal amount of each class but it also \"deletes\" the information that one category is more common than the other. This information could of course greatly improve such a model in cases where the model maybe isn't very . The dataset is also shuffled so that train and test draw later isn't biast.\n",
        "\n",
        "Before we split into the train and test the categorical varialbe \"PdDistrict\" is one hot encoded because the model can not understand text so that variable is split into multible and represented as binary one for each district. The target variable which is categorical with only two classes is factorized to be either 0 or 1, again so the model can understand it.\n",
        "\n",
        "Finally the data set is split into 75% train data and 25% test."
      ]
    },
    {
      "cell_type": "code",
      "metadata": {
        "id": "XfHMQ0e6Jj_z"
      },
      "source": [
        "# Instantiate model with 1000 decision trees\n",
        "rf = RandomForestClassifier(n_estimators = 100, random_state = 42,min_samples_split = 10)\n",
        "# Train the model on training data\n",
        "rf.fit(train_features, train_labels);\n",
        "\n",
        "# Use the forest's predict method on the test data\n",
        "predictions = rf.predict(test_features)\n"
      ],
      "execution_count": 6,
      "outputs": []
    },
    {
      "cell_type": "markdown",
      "metadata": {
        "id": "H0xoYFUvlulx"
      },
      "source": [
        "### **Training accuracy**"
      ]
    },
    {
      "cell_type": "code",
      "metadata": {
        "colab": {
          "base_uri": "https://localhost:8080/"
        },
        "id": "rFNn_PFclHDZ",
        "outputId": "b349a6dc-595b-4f5c-d8e1-b131d6934131"
      },
      "source": [
        "predictions1 = rf.predict(train_features)\n",
        "print(classification_report(predictions1,train_labels))"
      ],
      "execution_count": 7,
      "outputs": [
        {
          "output_type": "stream",
          "text": [
            "              precision    recall  f1-score   support\n",
            "\n",
            "           0       0.85      0.84      0.85     30265\n",
            "           1       0.84      0.85      0.84     29735\n",
            "\n",
            "    accuracy                           0.85     60000\n",
            "   macro avg       0.85      0.85      0.85     60000\n",
            "weighted avg       0.85      0.85      0.85     60000\n",
            "\n"
          ],
          "name": "stdout"
        }
      ]
    },
    {
      "cell_type": "markdown",
      "metadata": {
        "id": "VMUtvgowl2NA"
      },
      "source": [
        "### **Test accuracy**"
      ]
    },
    {
      "cell_type": "code",
      "metadata": {
        "colab": {
          "base_uri": "https://localhost:8080/"
        },
        "id": "PndUtx8FiUZ_",
        "outputId": "6c50409b-1c28-40a7-e904-a465e6a2dd58"
      },
      "source": [
        "print(classification_report(predictions,test_labels))"
      ],
      "execution_count": 8,
      "outputs": [
        {
          "output_type": "stream",
          "text": [
            "              precision    recall  f1-score   support\n",
            "\n",
            "           0       0.70      0.70      0.70     10047\n",
            "           1       0.70      0.70      0.70      9953\n",
            "\n",
            "    accuracy                           0.70     20000\n",
            "   macro avg       0.70      0.70      0.70     20000\n",
            "weighted avg       0.70      0.70      0.70     20000\n",
            "\n"
          ],
          "name": "stdout"
        }
      ]
    },
    {
      "cell_type": "markdown",
      "metadata": {
        "id": "Q4pTmOnJiFMn"
      },
      "source": [
        "### **Report accuracy. Discuss the model performance.**"
      ]
    },
    {
      "cell_type": "markdown",
      "metadata": {
        "id": "bYtJDwivJj_1"
      },
      "source": [
        "**Answer**\n",
        "\n",
        "The model predicts 67% correct which is better than guessing but still not very impressive. The model is definitely overfitting as the training accuracy is 99% which is much higher than the test accuracy."
      ]
    },
    {
      "cell_type": "markdown",
      "metadata": {
        "id": "RvV20V_HntgQ"
      },
      "source": [
        "### **When you're done, you should be able to give the classifier a place and a time, and it should tell you which of the two types of crime happened there.**"
      ]
    },
    {
      "cell_type": "code",
      "metadata": {
        "id": "-ZRlL65nJj_1",
        "colab": {
          "base_uri": "https://localhost:8080/"
        },
        "outputId": "98652c24-bdf7-4d46-be59-28a7802ff2c6"
      },
      "source": [
        "\n",
        "#Prediction for one observation\n",
        "rf.predict(np.array(test_features.iloc[0,:]).reshape(1, -1))"
      ],
      "execution_count": 9,
      "outputs": [
        {
          "output_type": "execute_result",
          "data": {
            "text/plain": [
              "array([0])"
            ]
          },
          "metadata": {
            "tags": []
          },
          "execution_count": 9
        }
      ]
    },
    {
      "cell_type": "markdown",
      "metadata": {
        "id": "UNmqg0MHJj_2"
      },
      "source": [
        "If one want to make a prediction for a new observation the above code is an example of this. This will indictate  1 or 0 for either predicting the crime to be a Vehicle Theft or Fraud."
      ]
    },
    {
      "cell_type": "markdown",
      "metadata": {
        "id": "Hw4StNNTn9GR"
      },
      "source": [
        "### **Did you choose to do cross-validation?** "
      ]
    },
    {
      "cell_type": "code",
      "metadata": {
        "colab": {
          "base_uri": "https://localhost:8080/"
        },
        "id": "ELlvHaEimu7A",
        "outputId": "9a7eac9b-9ee8-4c6c-ee8b-19dca99e4678"
      },
      "source": [
        "\n",
        "scores = cross_val_score(rf, X, y, cv=5, scoring = \"accuracy\")\n",
        "print(\"%0.2f accuracy with a standard deviation of %0.3f\" % (scores.mean(), scores.std()))\n"
      ],
      "execution_count": 10,
      "outputs": [
        {
          "output_type": "stream",
          "text": [
            "0.70 accuracy with a standard deviation of 0.005\n"
          ],
          "name": "stdout"
        }
      ]
    },
    {
      "cell_type": "markdown",
      "metadata": {
        "id": "RdbjKUyRoFDw"
      },
      "source": [
        "**Answer** \n",
        "\n",
        "Even after trying cross-validation and regularization in the form of restricting the minimum sample split the model does not get better. So to cnclude it is hard to classify the data based on these features. Or that an extensive grid search is needed to make the model better."
      ]
    },
    {
      "cell_type": "markdown",
      "metadata": {
        "id": "GfDq9GrDMry8"
      },
      "source": [
        "## **Part 2B: Info from weather features.**"
      ]
    },
    {
      "cell_type": "markdown",
      "metadata": {
        "id": "aY4iSp3AMi3U"
      },
      "source": [
        "**Part 2B: Info from weather features.**\n",
        "* Now add features from weather data to your random forest. \n",
        "  - Report accuracy. \n",
        "  - Discuss how the model performance changes relative to the version with no weather data.\n",
        "  - Discuss what you have learned about crime from including weather data in your model."
      ]
    },
    {
      "cell_type": "code",
      "metadata": {
        "colab": {
          "base_uri": "https://localhost:8080/"
        },
        "id": "n60jkNONREBd",
        "outputId": "7166c4b6-e40c-4b53-951a-ea1c2a6868c0"
      },
      "source": [
        "# REading dat and localizing the time after instructions on slack.\n",
        "\n",
        "# parse_dates specifies what columns contain dates (instead of a string column -> it becomes a date_time column)\n",
        "# data_parser -> we specify our custom date_parser (Pandas has default data_parser, usually we do not need to specify it)\n",
        "# in our data_parser we use \"lambda\" function - it means that we want to apply something to each value in the column\n",
        "# pd.to_datetime(x) - converts each value to date_time obect. By default pd.to_datetime assigns GMT0 timezone, \n",
        "# which is wrong, thus, we specification of timezone with tz_convert(None)\n",
        "# now we want to specify the correct timezone -> we use tz_localize(\"..\")\n",
        "# after we can convert dates to the actual SanFrancisco timezone with tz_convert(\"..\")\n",
        "# weather.head()\n",
        "\n",
        "\n",
        "#Loading and adding relevant columns again\n",
        "\n",
        "df_p2b = df[df[\"Category\"].isin(['VEHICLE THEFT', 'FRAUD'])] # filter out the dataframe, you can plug any list of crimes\n",
        "df_p2b[\"datetime\"] = df_p2b.apply(lambda x: pd.to_datetime(x.Date + \" \" + x.Time).round(\"H\").tz_localize(\"Etc/GMT-7\"), axis = 1)  \n",
        "\n",
        "# Here we do a bit more complicated thing\n",
        "# .apply allows us to use function for each row of a dataframe (read documentation for more info)\n",
        "# so we take a row (which is x) and take cell of Date and Time -> and concatenate them to one big string\n",
        "# that can be then converted to datetime. We would also want to remove any seconds and minutes (round to hours)\n",
        "# then we specify that dates are in GMT-7\n",
        "# the result is going to be stored in new \"datetime\" column\n",
        "\n",
        "\n",
        "# Left joining in by time stamp in order to get the relevant weather data for each observation.\n",
        "df_weather = pd.merge(df_p2b,weather,how=\"left\",left_on =\"datetime\",right_on =\"date\")\n",
        "df_weather = df_weather.dropna(subset=[\"date\"])\n",
        "\n",
        "#Balancing the data after the observatoions with the wather data missing have been dropped.\n",
        "df_filtered1 = df_weather[df_weather[\"Category\"]==(\"VEHICLE THEFT\")].sample(14301)\n",
        "df_filtered2 = df_weather[df_weather[\"Category\"]==(\"FRAUD\")].sample(14301)\n",
        "\n",
        "#Constructing the final df to work with.\n",
        "df_balanced = pd.concat([df_filtered1,df_filtered2]).sample(frac=1).reset_index()\n"
      ],
      "execution_count": 11,
      "outputs": [
        {
          "output_type": "stream",
          "text": [
            "/usr/local/lib/python3.7/dist-packages/ipykernel_launcher.py:16: SettingWithCopyWarning: \n",
            "A value is trying to be set on a copy of a slice from a DataFrame.\n",
            "Try using .loc[row_indexer,col_indexer] = value instead\n",
            "\n",
            "See the caveats in the documentation: https://pandas.pydata.org/pandas-docs/stable/user_guide/indexing.html#returning-a-view-versus-a-copy\n",
            "  app.launch_new_instance()\n"
          ],
          "name": "stderr"
        }
      ]
    },
    {
      "cell_type": "code",
      "metadata": {
        "id": "D-AWB8wmJj_2"
      },
      "source": [
        "\n",
        "X = pd.get_dummies(df_balanced[['PdDistrict', 'Year',\n",
        "       'Month', 'Day', 'Hour', 'temperature', 'humidity', 'weather',\n",
        "       'wind_speed', 'wind_direction', 'pressure']])\n",
        "\n",
        "y = df_balanced[\"Category\"]\n",
        "y = y.factorize( ['VEHICLE THEFT', 'FRAUD'] )[0]\n",
        "\n",
        "# Using Skicit-learn to split data into training and testing sets\n",
        "from sklearn.model_selection import train_test_split\n",
        "# Split the data into training and testing sets\n",
        "train_features, test_features, train_labels, test_labels = train_test_split(X, y, test_size = 0.25, random_state = 42)\n",
        "\n",
        "\n",
        "# Instantiate model with 1000 decision trees\n",
        "rf = RandomForestClassifier(n_estimators = 1000, random_state = 42)\n",
        "# Train the model on training data\n",
        "rf.fit(train_features, train_labels);\n",
        "\n",
        "# Use the forest's predict method on the test data\n",
        "predictions = rf.predict(test_features)\n"
      ],
      "execution_count": 12,
      "outputs": []
    },
    {
      "cell_type": "markdown",
      "metadata": {
        "id": "nALE7MwyqRIh"
      },
      "source": [
        "### **Train Accuracy**"
      ]
    },
    {
      "cell_type": "code",
      "metadata": {
        "colab": {
          "base_uri": "https://localhost:8080/"
        },
        "id": "d9bPw1BBqPCp",
        "outputId": "b3bca553-4b52-4e09-8145-7aec253d4979"
      },
      "source": [
        "predictions1 = rf.predict(train_features)\n",
        "print(classification_report(predictions1,train_labels))"
      ],
      "execution_count": 13,
      "outputs": [
        {
          "output_type": "stream",
          "text": [
            "              precision    recall  f1-score   support\n",
            "\n",
            "           0       0.99      0.99      0.99     10754\n",
            "           1       0.99      0.99      0.99     10697\n",
            "\n",
            "    accuracy                           0.99     21451\n",
            "   macro avg       0.99      0.99      0.99     21451\n",
            "weighted avg       0.99      0.99      0.99     21451\n",
            "\n"
          ],
          "name": "stdout"
        }
      ]
    },
    {
      "cell_type": "markdown",
      "metadata": {
        "id": "tD3rlwwOqV4p"
      },
      "source": [
        "### **Test accuracy**"
      ]
    },
    {
      "cell_type": "code",
      "metadata": {
        "colab": {
          "base_uri": "https://localhost:8080/"
        },
        "id": "hns5JKqqqCW7",
        "outputId": "fe3181d5-c5fd-4497-f988-89c8f8124bbf"
      },
      "source": [
        "print(classification_report(predictions,test_labels))"
      ],
      "execution_count": 14,
      "outputs": [
        {
          "output_type": "stream",
          "text": [
            "              precision    recall  f1-score   support\n",
            "\n",
            "           0       0.70      0.66      0.68      3767\n",
            "           1       0.65      0.69      0.67      3384\n",
            "\n",
            "    accuracy                           0.67      7151\n",
            "   macro avg       0.67      0.67      0.67      7151\n",
            "weighted avg       0.68      0.67      0.67      7151\n",
            "\n"
          ],
          "name": "stdout"
        }
      ]
    },
    {
      "cell_type": "markdown",
      "metadata": {
        "id": "xDpPBiIvrTaR"
      },
      "source": [
        "### **Report accuracy and Discuss how the model performance changes relative to the version with no weather data.**"
      ]
    },
    {
      "cell_type": "markdown",
      "metadata": {
        "id": "avCMcDH3Jj_3"
      },
      "source": [
        "**Answer**\n",
        "\n",
        "The procedure is exactly like before and the same variables are one hot encoded and factorized. All of the weather data is continuous so no need to manipulate that. \n",
        "\n",
        "The model does not perform better even after we added the extra weather data. However as we needed to remove observations that did not have weather data in their corresponding timestamp the second model is trained on 14.000 compared to 40.000."
      ]
    },
    {
      "cell_type": "markdown",
      "metadata": {
        "id": "mFNUs_ZwtHNB"
      },
      "source": [
        "### **Feature importance / Discuss what you have learned about crime from including weather data in your model.**"
      ]
    },
    {
      "cell_type": "code",
      "metadata": {
        "colab": {
          "base_uri": "https://localhost:8080/"
        },
        "id": "_FAh3SEhrqNu",
        "outputId": "141ac64f-6950-4f71-bf23-78bedab8f8d4"
      },
      "source": [
        "print(f'Top 5 feature importance in descending order: \\n{X.columns[np.argsort(-rf.feature_importances_)[:5]].values}')"
      ],
      "execution_count": 15,
      "outputs": [
        {
          "output_type": "stream",
          "text": [
            "Top 5 feature importance in descending order: \n",
            "['Hour' 'temperature' 'wind_direction' 'Day' 'humidity']\n"
          ],
          "name": "stdout"
        }
      ]
    },
    {
      "cell_type": "markdown",
      "metadata": {
        "id": "LvQhITdItFeq"
      },
      "source": [
        "The feature importance are very interesting and might give an insight into why the model is not performing better than it is. Basicly the model licks its finger, points it into the air and makes a prediction, like all of us right?"
      ]
    },
    {
      "cell_type": "markdown",
      "metadata": {
        "id": "YO130ZVE8Xzi"
      },
      "source": [
        "# Part 3: Data visualization"
      ]
    },
    {
      "cell_type": "markdown",
      "metadata": {
        "id": "IQjhF019gX9v"
      },
      "source": [
        "### **Create the Bokeh visualization from Part 2 of the Week 8 Lecture, displayed in a beautiful .gif below.**\n",
        "###**Provide nice comments for your code. Don't just use the \\# inline comments, but the full Notebook markdown capabilities and explain what you're doing.**"
      ]
    },
    {
      "cell_type": "markdown",
      "metadata": {
        "id": "cfAgeR4pRRBp"
      },
      "source": [
        "The data is filtered based on focus crime and the time period ( $[2010,2018[$ ) :"
      ]
    },
    {
      "cell_type": "code",
      "metadata": {
        "id": "O66JHyCd8cNI"
      },
      "source": [
        "focuscrimes = set(['WEAPON LAWS', 'PROSTITUTION', 'DRIVING UNDER THE INFLUENCE', 'ROBBERY', 'BURGLARY', 'ASSAULT', 'DRUNKENNESS', 'DRUG/NARCOTIC', 'TRESPASS', 'LARCENY/THEFT', 'VANDALISM', 'VEHICLE THEFT', 'STOLEN PROPERTY', 'DISORDERLY CONDUCT'])\n",
        "filter = (df['Year'] >= 2010) & (df['Year'] < 2018) & df.Category.isin(focuscrimes)           # Create filter\n",
        "df_filtered = df[filter]                                                                      # Apply filter "
      ],
      "execution_count": 16,
      "outputs": []
    },
    {
      "cell_type": "markdown",
      "metadata": {
        "id": "w2-26p8bSxbq"
      },
      "source": [
        "The data is grouped by Hour and Category to get the count of each crime type at each given hour. The table is then modified to have the different categoris as columns:"
      ]
    },
    {
      "cell_type": "code",
      "metadata": {
        "id": "4yeoKbnz-P8L"
      },
      "source": [
        "ctdf=(df_filtered.reset_index().groupby(['Hour','Category'], as_index=False).count())\n",
        "df_24=ctdf.pivot_table(values='index', index='Hour', columns='Category', aggfunc='first')"
      ],
      "execution_count": 17,
      "outputs": []
    },
    {
      "cell_type": "markdown",
      "metadata": {
        "id": "oPFcGz5XYXb1"
      },
      "source": [
        "The hourly count for each category is normalized with respect to the total number counts for the respective crime type. "
      ]
    },
    {
      "cell_type": "code",
      "metadata": {
        "id": "U28WIfLP-5cP"
      },
      "source": [
        "df_normal = df_24 / df_24.sum(axis=0)        # normalize data"
      ],
      "execution_count": 18,
      "outputs": []
    },
    {
      "cell_type": "markdown",
      "metadata": {
        "id": "zv2mJqNE0tZp"
      },
      "source": [
        "The Boked figure is initialized:"
      ]
    },
    {
      "cell_type": "code",
      "metadata": {
        "id": "CybC5Zu5pKXY"
      },
      "source": [
        "# hours is added as a colunm in the data frame for for convenience\n",
        "df_normal['hours'] =[str(i) for i in df_normal.index]\n",
        "hours = [str(i) for i in df_normal.index]\n",
        "\n",
        "# Convert the data frame to a ColumnDataSource\n",
        "source = ColumnDataSource(df_normal)\n",
        "\n",
        "# Initialize figure\n",
        "p = figure(x_range = FactorRange(factors=hours), y_range=(0,0.15), plot_width=1300, plot_height = 400)\n",
        "color = viridis(len(df_24.columns))"
      ],
      "execution_count": 19,
      "outputs": []
    },
    {
      "cell_type": "markdown",
      "metadata": {
        "id": "BsR04OfP2paH"
      },
      "source": [
        "The interactive model is generated:"
      ]
    },
    {
      "cell_type": "code",
      "metadata": {
        "colab": {
          "base_uri": "https://localhost:8080/",
          "height": 417
        },
        "id": "w-Qc3PYaYeuy",
        "outputId": "4954e201-a996-480b-df44-d3acf97c3f13"
      },
      "source": [
        "items = []      # list of items (legend, plot)\n",
        "bar ={}         # list of plots\n",
        "\n",
        "# generate vbar for each focus crime\n",
        "for indx,i in enumerate(df_normal.iloc[:,:-1]):\n",
        "    bar[i] = p.vbar(x ='hours',  top=i, source = source, \n",
        "                 muted_alpha=0.5, muted = True,  width = 0.5, color = color[indx])\n",
        "    items.append((i, [bar[i]]))\n",
        " \n",
        "# position of legends\n",
        "legend = Legend(items=items, location=\"center\")\n",
        "p.add_layout(legend, 'left')\n",
        "\n",
        "# make interactive\n",
        "p.legend.click_policy=\"hide\"\n",
        "p.title.text = (\"Distribution of focus crimes during a day\")\n",
        "p.title.align = \"center\"\n",
        "p.axis\n",
        "p.yaxis.axis_label = 'Fraction of crime type'\n",
        "p.xaxis.axis_label = 'Count'\n",
        "show(p)\n",
        "\n"
      ],
      "execution_count": 20,
      "outputs": [
        {
          "output_type": "display_data",
          "data": {
            "application/javascript": [
              "\n",
              "(function(root) {\n",
              "  function now() {\n",
              "    return new Date();\n",
              "  }\n",
              "\n",
              "  var force = true;\n",
              "\n",
              "  if (typeof root._bokeh_onload_callbacks === \"undefined\" || force === true) {\n",
              "    root._bokeh_onload_callbacks = [];\n",
              "    root._bokeh_is_loading = undefined;\n",
              "  }\n",
              "\n",
              "  var JS_MIME_TYPE = 'application/javascript';\n",
              "  var HTML_MIME_TYPE = 'text/html';\n",
              "  var EXEC_MIME_TYPE = 'application/vnd.bokehjs_exec.v0+json';\n",
              "  var CLASS_NAME = 'output_bokeh rendered_html';\n",
              "\n",
              "  /**\n",
              "   * Render data to the DOM node\n",
              "   */\n",
              "  function render(props, node) {\n",
              "    var script = document.createElement(\"script\");\n",
              "    node.appendChild(script);\n",
              "  }\n",
              "\n",
              "  /**\n",
              "   * Handle when an output is cleared or removed\n",
              "   */\n",
              "  function handleClearOutput(event, handle) {\n",
              "    var cell = handle.cell;\n",
              "\n",
              "    var id = cell.output_area._bokeh_element_id;\n",
              "    var server_id = cell.output_area._bokeh_server_id;\n",
              "    // Clean up Bokeh references\n",
              "    if (id != null && id in Bokeh.index) {\n",
              "      Bokeh.index[id].model.document.clear();\n",
              "      delete Bokeh.index[id];\n",
              "    }\n",
              "\n",
              "    if (server_id !== undefined) {\n",
              "      // Clean up Bokeh references\n",
              "      var cmd = \"from bokeh.io.state import curstate; print(curstate().uuid_to_server['\" + server_id + \"'].get_sessions()[0].document.roots[0]._id)\";\n",
              "      cell.notebook.kernel.execute(cmd, {\n",
              "        iopub: {\n",
              "          output: function(msg) {\n",
              "            var id = msg.content.text.trim();\n",
              "            if (id in Bokeh.index) {\n",
              "              Bokeh.index[id].model.document.clear();\n",
              "              delete Bokeh.index[id];\n",
              "            }\n",
              "          }\n",
              "        }\n",
              "      });\n",
              "      // Destroy server and session\n",
              "      var cmd = \"import bokeh.io.notebook as ion; ion.destroy_server('\" + server_id + \"')\";\n",
              "      cell.notebook.kernel.execute(cmd);\n",
              "    }\n",
              "  }\n",
              "\n",
              "  /**\n",
              "   * Handle when a new output is added\n",
              "   */\n",
              "  function handleAddOutput(event, handle) {\n",
              "    var output_area = handle.output_area;\n",
              "    var output = handle.output;\n",
              "\n",
              "    // limit handleAddOutput to display_data with EXEC_MIME_TYPE content only\n",
              "    if ((output.output_type != \"display_data\") || (!output.data.hasOwnProperty(EXEC_MIME_TYPE))) {\n",
              "      return\n",
              "    }\n",
              "\n",
              "    var toinsert = output_area.element.find(\".\" + CLASS_NAME.split(' ')[0]);\n",
              "\n",
              "    if (output.metadata[EXEC_MIME_TYPE][\"id\"] !== undefined) {\n",
              "      toinsert[toinsert.length - 1].firstChild.textContent = output.data[JS_MIME_TYPE];\n",
              "      // store reference to embed id on output_area\n",
              "      output_area._bokeh_element_id = output.metadata[EXEC_MIME_TYPE][\"id\"];\n",
              "    }\n",
              "    if (output.metadata[EXEC_MIME_TYPE][\"server_id\"] !== undefined) {\n",
              "      var bk_div = document.createElement(\"div\");\n",
              "      bk_div.innerHTML = output.data[HTML_MIME_TYPE];\n",
              "      var script_attrs = bk_div.children[0].attributes;\n",
              "      for (var i = 0; i < script_attrs.length; i++) {\n",
              "        toinsert[toinsert.length - 1].firstChild.setAttribute(script_attrs[i].name, script_attrs[i].value);\n",
              "        toinsert[toinsert.length - 1].firstChild.textContent = bk_div.children[0].textContent\n",
              "      }\n",
              "      // store reference to server id on output_area\n",
              "      output_area._bokeh_server_id = output.metadata[EXEC_MIME_TYPE][\"server_id\"];\n",
              "    }\n",
              "  }\n",
              "\n",
              "  function register_renderer(events, OutputArea) {\n",
              "\n",
              "    function append_mime(data, metadata, element) {\n",
              "      // create a DOM node to render to\n",
              "      var toinsert = this.create_output_subarea(\n",
              "        metadata,\n",
              "        CLASS_NAME,\n",
              "        EXEC_MIME_TYPE\n",
              "      );\n",
              "      this.keyboard_manager.register_events(toinsert);\n",
              "      // Render to node\n",
              "      var props = {data: data, metadata: metadata[EXEC_MIME_TYPE]};\n",
              "      render(props, toinsert[toinsert.length - 1]);\n",
              "      element.append(toinsert);\n",
              "      return toinsert\n",
              "    }\n",
              "\n",
              "    /* Handle when an output is cleared or removed */\n",
              "    events.on('clear_output.CodeCell', handleClearOutput);\n",
              "    events.on('delete.Cell', handleClearOutput);\n",
              "\n",
              "    /* Handle when a new output is added */\n",
              "    events.on('output_added.OutputArea', handleAddOutput);\n",
              "\n",
              "    /**\n",
              "     * Register the mime type and append_mime function with output_area\n",
              "     */\n",
              "    OutputArea.prototype.register_mime_type(EXEC_MIME_TYPE, append_mime, {\n",
              "      /* Is output safe? */\n",
              "      safe: true,\n",
              "      /* Index of renderer in `output_area.display_order` */\n",
              "      index: 0\n",
              "    });\n",
              "  }\n",
              "\n",
              "  // register the mime type if in Jupyter Notebook environment and previously unregistered\n",
              "  if (root.Jupyter !== undefined) {\n",
              "    var events = require('base/js/events');\n",
              "    var OutputArea = require('notebook/js/outputarea').OutputArea;\n",
              "\n",
              "    if (OutputArea.prototype.mime_types().indexOf(EXEC_MIME_TYPE) == -1) {\n",
              "      register_renderer(events, OutputArea);\n",
              "    }\n",
              "  }\n",
              "\n",
              "  \n",
              "  if (typeof (root._bokeh_timeout) === \"undefined\" || force === true) {\n",
              "    root._bokeh_timeout = Date.now() + 5000;\n",
              "    root._bokeh_failed_load = false;\n",
              "  }\n",
              "\n",
              "  var NB_LOAD_WARNING = {'data': {'text/html':\n",
              "     \"<div style='background-color: #fdd'>\\n\"+\n",
              "     \"<p>\\n\"+\n",
              "     \"BokehJS does not appear to have successfully loaded. If loading BokehJS from CDN, this \\n\"+\n",
              "     \"may be due to a slow or bad network connection. Possible fixes:\\n\"+\n",
              "     \"</p>\\n\"+\n",
              "     \"<ul>\\n\"+\n",
              "     \"<li>re-rerun `output_notebook()` to attempt to load from CDN again, or</li>\\n\"+\n",
              "     \"<li>use INLINE resources instead, as so:</li>\\n\"+\n",
              "     \"</ul>\\n\"+\n",
              "     \"<code>\\n\"+\n",
              "     \"from bokeh.resources import INLINE\\n\"+\n",
              "     \"output_notebook(resources=INLINE)\\n\"+\n",
              "     \"</code>\\n\"+\n",
              "     \"</div>\"}};\n",
              "\n",
              "  function display_loaded() {\n",
              "    var el = document.getElementById(null);\n",
              "    if (el != null) {\n",
              "      el.textContent = \"BokehJS is loading...\";\n",
              "    }\n",
              "    if (root.Bokeh !== undefined) {\n",
              "      if (el != null) {\n",
              "        el.textContent = \"BokehJS \" + root.Bokeh.version + \" successfully loaded.\";\n",
              "      }\n",
              "    } else if (Date.now() < root._bokeh_timeout) {\n",
              "      setTimeout(display_loaded, 100)\n",
              "    }\n",
              "  }\n",
              "\n",
              "\n",
              "  function run_callbacks() {\n",
              "    try {\n",
              "      root._bokeh_onload_callbacks.forEach(function(callback) {\n",
              "        if (callback != null)\n",
              "          callback();\n",
              "      });\n",
              "    } finally {\n",
              "      delete root._bokeh_onload_callbacks\n",
              "    }\n",
              "    console.debug(\"Bokeh: all callbacks have finished\");\n",
              "  }\n",
              "\n",
              "  function load_libs(css_urls, js_urls, callback) {\n",
              "    if (css_urls == null) css_urls = [];\n",
              "    if (js_urls == null) js_urls = [];\n",
              "\n",
              "    root._bokeh_onload_callbacks.push(callback);\n",
              "    if (root._bokeh_is_loading > 0) {\n",
              "      console.debug(\"Bokeh: BokehJS is being loaded, scheduling callback at\", now());\n",
              "      return null;\n",
              "    }\n",
              "    if (js_urls == null || js_urls.length === 0) {\n",
              "      run_callbacks();\n",
              "      return null;\n",
              "    }\n",
              "    console.debug(\"Bokeh: BokehJS not loaded, scheduling load and callback at\", now());\n",
              "    root._bokeh_is_loading = css_urls.length + js_urls.length;\n",
              "\n",
              "    function on_load() {\n",
              "      root._bokeh_is_loading--;\n",
              "      if (root._bokeh_is_loading === 0) {\n",
              "        console.debug(\"Bokeh: all BokehJS libraries/stylesheets loaded\");\n",
              "        run_callbacks()\n",
              "      }\n",
              "    }\n",
              "\n",
              "    function on_error() {\n",
              "      console.error(\"failed to load \" + url);\n",
              "    }\n",
              "\n",
              "    for (var i = 0; i < css_urls.length; i++) {\n",
              "      var url = css_urls[i];\n",
              "      const element = document.createElement(\"link\");\n",
              "      element.onload = on_load;\n",
              "      element.onerror = on_error;\n",
              "      element.rel = \"stylesheet\";\n",
              "      element.type = \"text/css\";\n",
              "      element.href = url;\n",
              "      console.debug(\"Bokeh: injecting link tag for BokehJS stylesheet: \", url);\n",
              "      document.body.appendChild(element);\n",
              "    }\n",
              "\n",
              "    const hashes = {\"https://cdn.bokeh.org/bokeh/release/bokeh-2.1.1.min.js\": \"kLr4fYcqcSpbuI95brIH3vnnYCquzzSxHPU6XGQCIkQRGJwhg0StNbj1eegrHs12\", \"https://cdn.bokeh.org/bokeh/release/bokeh-widgets-2.1.1.min.js\": \"xIGPmVtaOm+z0BqfSOMn4lOR6ciex448GIKG4eE61LsAvmGj48XcMQZtKcE/UXZe\", \"https://cdn.bokeh.org/bokeh/release/bokeh-tables-2.1.1.min.js\": \"Dc9u1wF/0zApGIWoBbH77iWEHtdmkuYWG839Uzmv8y8yBLXebjO9ZnERsde5Ln/P\", \"https://cdn.bokeh.org/bokeh/release/bokeh-gl-2.1.1.min.js\": \"cT9JaBz7GiRXdENrJLZNSC6eMNF3nh3fa5fTF51Svp+ukxPdwcU5kGXGPBgDCa2j\"};\n",
              "\n",
              "    for (var i = 0; i < js_urls.length; i++) {\n",
              "      var url = js_urls[i];\n",
              "      var element = document.createElement('script');\n",
              "      element.onload = on_load;\n",
              "      element.onerror = on_error;\n",
              "      element.async = false;\n",
              "      element.src = url;\n",
              "      if (url in hashes) {\n",
              "        element.crossOrigin = \"anonymous\";\n",
              "        element.integrity = \"sha384-\" + hashes[url];\n",
              "      }\n",
              "      console.debug(\"Bokeh: injecting script tag for BokehJS library: \", url);\n",
              "      document.head.appendChild(element);\n",
              "    }\n",
              "  };\n",
              "\n",
              "  function inject_raw_css(css) {\n",
              "    const element = document.createElement(\"style\");\n",
              "    element.appendChild(document.createTextNode(css));\n",
              "    document.body.appendChild(element);\n",
              "  }\n",
              "\n",
              "  \n",
              "  var js_urls = [\"https://cdn.bokeh.org/bokeh/release/bokeh-2.1.1.min.js\", \"https://cdn.bokeh.org/bokeh/release/bokeh-widgets-2.1.1.min.js\", \"https://cdn.bokeh.org/bokeh/release/bokeh-tables-2.1.1.min.js\", \"https://cdn.bokeh.org/bokeh/release/bokeh-gl-2.1.1.min.js\"];\n",
              "  var css_urls = [];\n",
              "  \n",
              "\n",
              "  var inline_js = [\n",
              "    function(Bokeh) {\n",
              "      Bokeh.set_log_level(\"info\");\n",
              "    },\n",
              "    function(Bokeh) {\n",
              "    \n",
              "    \n",
              "    }\n",
              "  ];\n",
              "\n",
              "  function run_inline_js() {\n",
              "    \n",
              "    if (root.Bokeh !== undefined || force === true) {\n",
              "      \n",
              "    for (var i = 0; i < inline_js.length; i++) {\n",
              "      inline_js[i].call(root, root.Bokeh);\n",
              "    }\n",
              "    } else if (Date.now() < root._bokeh_timeout) {\n",
              "      setTimeout(run_inline_js, 100);\n",
              "    } else if (!root._bokeh_failed_load) {\n",
              "      console.log(\"Bokeh: BokehJS failed to load within specified timeout.\");\n",
              "      root._bokeh_failed_load = true;\n",
              "    } else if (force !== true) {\n",
              "      var cell = $(document.getElementById(null)).parents('.cell').data().cell;\n",
              "      cell.output_area.append_execute_result(NB_LOAD_WARNING)\n",
              "    }\n",
              "\n",
              "  }\n",
              "\n",
              "  if (root._bokeh_is_loading === 0) {\n",
              "    console.debug(\"Bokeh: BokehJS loaded, going straight to plotting\");\n",
              "    run_inline_js();\n",
              "  } else {\n",
              "    load_libs(css_urls, js_urls, function() {\n",
              "      console.debug(\"Bokeh: BokehJS plotting callback run at\", now());\n",
              "      run_inline_js();\n",
              "    });\n",
              "  }\n",
              "}(window));"
            ],
            "application/vnd.bokehjs_load.v0+json": "\n(function(root) {\n  function now() {\n    return new Date();\n  }\n\n  var force = true;\n\n  if (typeof root._bokeh_onload_callbacks === \"undefined\" || force === true) {\n    root._bokeh_onload_callbacks = [];\n    root._bokeh_is_loading = undefined;\n  }\n\n  \n\n  \n  if (typeof (root._bokeh_timeout) === \"undefined\" || force === true) {\n    root._bokeh_timeout = Date.now() + 5000;\n    root._bokeh_failed_load = false;\n  }\n\n  var NB_LOAD_WARNING = {'data': {'text/html':\n     \"<div style='background-color: #fdd'>\\n\"+\n     \"<p>\\n\"+\n     \"BokehJS does not appear to have successfully loaded. If loading BokehJS from CDN, this \\n\"+\n     \"may be due to a slow or bad network connection. Possible fixes:\\n\"+\n     \"</p>\\n\"+\n     \"<ul>\\n\"+\n     \"<li>re-rerun `output_notebook()` to attempt to load from CDN again, or</li>\\n\"+\n     \"<li>use INLINE resources instead, as so:</li>\\n\"+\n     \"</ul>\\n\"+\n     \"<code>\\n\"+\n     \"from bokeh.resources import INLINE\\n\"+\n     \"output_notebook(resources=INLINE)\\n\"+\n     \"</code>\\n\"+\n     \"</div>\"}};\n\n  function display_loaded() {\n    var el = document.getElementById(null);\n    if (el != null) {\n      el.textContent = \"BokehJS is loading...\";\n    }\n    if (root.Bokeh !== undefined) {\n      if (el != null) {\n        el.textContent = \"BokehJS \" + root.Bokeh.version + \" successfully loaded.\";\n      }\n    } else if (Date.now() < root._bokeh_timeout) {\n      setTimeout(display_loaded, 100)\n    }\n  }\n\n\n  function run_callbacks() {\n    try {\n      root._bokeh_onload_callbacks.forEach(function(callback) {\n        if (callback != null)\n          callback();\n      });\n    } finally {\n      delete root._bokeh_onload_callbacks\n    }\n    console.debug(\"Bokeh: all callbacks have finished\");\n  }\n\n  function load_libs(css_urls, js_urls, callback) {\n    if (css_urls == null) css_urls = [];\n    if (js_urls == null) js_urls = [];\n\n    root._bokeh_onload_callbacks.push(callback);\n    if (root._bokeh_is_loading > 0) {\n      console.debug(\"Bokeh: BokehJS is being loaded, scheduling callback at\", now());\n      return null;\n    }\n    if (js_urls == null || js_urls.length === 0) {\n      run_callbacks();\n      return null;\n    }\n    console.debug(\"Bokeh: BokehJS not loaded, scheduling load and callback at\", now());\n    root._bokeh_is_loading = css_urls.length + js_urls.length;\n\n    function on_load() {\n      root._bokeh_is_loading--;\n      if (root._bokeh_is_loading === 0) {\n        console.debug(\"Bokeh: all BokehJS libraries/stylesheets loaded\");\n        run_callbacks()\n      }\n    }\n\n    function on_error() {\n      console.error(\"failed to load \" + url);\n    }\n\n    for (var i = 0; i < css_urls.length; i++) {\n      var url = css_urls[i];\n      const element = document.createElement(\"link\");\n      element.onload = on_load;\n      element.onerror = on_error;\n      element.rel = \"stylesheet\";\n      element.type = \"text/css\";\n      element.href = url;\n      console.debug(\"Bokeh: injecting link tag for BokehJS stylesheet: \", url);\n      document.body.appendChild(element);\n    }\n\n    const hashes = {\"https://cdn.bokeh.org/bokeh/release/bokeh-2.1.1.min.js\": \"kLr4fYcqcSpbuI95brIH3vnnYCquzzSxHPU6XGQCIkQRGJwhg0StNbj1eegrHs12\", \"https://cdn.bokeh.org/bokeh/release/bokeh-widgets-2.1.1.min.js\": \"xIGPmVtaOm+z0BqfSOMn4lOR6ciex448GIKG4eE61LsAvmGj48XcMQZtKcE/UXZe\", \"https://cdn.bokeh.org/bokeh/release/bokeh-tables-2.1.1.min.js\": \"Dc9u1wF/0zApGIWoBbH77iWEHtdmkuYWG839Uzmv8y8yBLXebjO9ZnERsde5Ln/P\", \"https://cdn.bokeh.org/bokeh/release/bokeh-gl-2.1.1.min.js\": \"cT9JaBz7GiRXdENrJLZNSC6eMNF3nh3fa5fTF51Svp+ukxPdwcU5kGXGPBgDCa2j\"};\n\n    for (var i = 0; i < js_urls.length; i++) {\n      var url = js_urls[i];\n      var element = document.createElement('script');\n      element.onload = on_load;\n      element.onerror = on_error;\n      element.async = false;\n      element.src = url;\n      if (url in hashes) {\n        element.crossOrigin = \"anonymous\";\n        element.integrity = \"sha384-\" + hashes[url];\n      }\n      console.debug(\"Bokeh: injecting script tag for BokehJS library: \", url);\n      document.head.appendChild(element);\n    }\n  };\n\n  function inject_raw_css(css) {\n    const element = document.createElement(\"style\");\n    element.appendChild(document.createTextNode(css));\n    document.body.appendChild(element);\n  }\n\n  \n  var js_urls = [\"https://cdn.bokeh.org/bokeh/release/bokeh-2.1.1.min.js\", \"https://cdn.bokeh.org/bokeh/release/bokeh-widgets-2.1.1.min.js\", \"https://cdn.bokeh.org/bokeh/release/bokeh-tables-2.1.1.min.js\", \"https://cdn.bokeh.org/bokeh/release/bokeh-gl-2.1.1.min.js\"];\n  var css_urls = [];\n  \n\n  var inline_js = [\n    function(Bokeh) {\n      Bokeh.set_log_level(\"info\");\n    },\n    function(Bokeh) {\n    \n    \n    }\n  ];\n\n  function run_inline_js() {\n    \n    if (root.Bokeh !== undefined || force === true) {\n      \n    for (var i = 0; i < inline_js.length; i++) {\n      inline_js[i].call(root, root.Bokeh);\n    }\n    } else if (Date.now() < root._bokeh_timeout) {\n      setTimeout(run_inline_js, 100);\n    } else if (!root._bokeh_failed_load) {\n      console.log(\"Bokeh: BokehJS failed to load within specified timeout.\");\n      root._bokeh_failed_load = true;\n    } else if (force !== true) {\n      var cell = $(document.getElementById(null)).parents('.cell').data().cell;\n      cell.output_area.append_execute_result(NB_LOAD_WARNING)\n    }\n\n  }\n\n  if (root._bokeh_is_loading === 0) {\n    console.debug(\"Bokeh: BokehJS loaded, going straight to plotting\");\n    run_inline_js();\n  } else {\n    load_libs(css_urls, js_urls, function() {\n      console.debug(\"Bokeh: BokehJS plotting callback run at\", now());\n      run_inline_js();\n    });\n  }\n}(window));"
          },
          "metadata": {
            "tags": []
          }
        },
        {
          "output_type": "display_data",
          "data": {
            "text/html": [
              "\n",
              "\n",
              "\n",
              "\n",
              "\n",
              "\n",
              "  <div class=\"bk-root\" id=\"2f09c2a9-8909-4f35-b875-34fad02ae091\" data-root-id=\"1003\"></div>\n"
            ]
          },
          "metadata": {
            "tags": []
          }
        },
        {
          "output_type": "display_data",
          "data": {
            "application/javascript": [
              "(function(root) {\n",
              "  function embed_document(root) {\n",
              "    \n",
              "  var docs_json = {\"810d1db7-34fc-4cc8-a30a-a4b494ea716d\":{\"roots\":{\"references\":[{\"attributes\":{\"below\":[{\"id\":\"1011\"}],\"center\":[{\"id\":\"1013\"},{\"id\":\"1017\"}],\"left\":[{\"id\":\"1014\"},{\"id\":\"1116\"}],\"plot_height\":400,\"plot_width\":1300,\"renderers\":[{\"id\":\"1036\"},{\"id\":\"1042\"},{\"id\":\"1048\"},{\"id\":\"1054\"},{\"id\":\"1060\"},{\"id\":\"1066\"},{\"id\":\"1072\"},{\"id\":\"1078\"},{\"id\":\"1084\"},{\"id\":\"1090\"},{\"id\":\"1096\"},{\"id\":\"1102\"},{\"id\":\"1108\"},{\"id\":\"1114\"}],\"title\":{\"id\":\"1131\"},\"toolbar\":{\"id\":\"1025\"},\"x_range\":{\"id\":\"1002\"},\"x_scale\":{\"id\":\"1007\"},\"y_range\":{\"id\":\"1005\"},\"y_scale\":{\"id\":\"1009\"}},\"id\":\"1003\",\"subtype\":\"Figure\",\"type\":\"Plot\"},{\"attributes\":{\"align\":\"center\",\"text\":\"Distribution of focus crimes during a day\"},\"id\":\"1131\",\"type\":\"Title\"},{\"attributes\":{\"fill_color\":{\"value\":\"#24AA82\"},\"line_color\":{\"value\":\"#24AA82\"},\"top\":{\"field\":\"ROBBERY\"},\"width\":{\"value\":0.5},\"x\":{\"field\":\"hours\"}},\"id\":\"1081\",\"type\":\"VBar\"},{\"attributes\":{\"fill_color\":{\"value\":\"#1E998A\"},\"line_color\":{\"value\":\"#1E998A\"},\"top\":{\"field\":\"PROSTITUTION\"},\"width\":{\"value\":0.5},\"x\":{\"field\":\"hours\"}},\"id\":\"1075\",\"type\":\"VBar\"},{\"attributes\":{\"fill_color\":{\"value\":\"#440154\"},\"line_color\":{\"value\":\"#440154\"},\"top\":{\"field\":\"ASSAULT\"},\"width\":{\"value\":0.5},\"x\":{\"field\":\"hours\"}},\"id\":\"1033\",\"type\":\"VBar\"},{\"attributes\":{\"source\":{\"id\":\"1001\"}},\"id\":\"1115\",\"type\":\"CDSView\"},{\"attributes\":{\"data_source\":{\"id\":\"1001\"},\"glyph\":{\"id\":\"1081\"},\"hover_glyph\":null,\"muted\":true,\"muted_glyph\":{\"id\":\"1083\"},\"nonselection_glyph\":{\"id\":\"1082\"},\"selection_glyph\":null,\"view\":{\"id\":\"1085\"}},\"id\":\"1084\",\"type\":\"GlyphRenderer\"},{\"attributes\":{\"fill_alpha\":{\"value\":0.5},\"fill_color\":{\"value\":\"#24868D\"},\"line_alpha\":{\"value\":0.5},\"line_color\":{\"value\":\"#24868D\"},\"top\":{\"field\":\"LARCENY/THEFT\"},\"width\":{\"value\":0.5},\"x\":{\"field\":\"hours\"}},\"id\":\"1071\",\"type\":\"VBar\"},{\"attributes\":{\"fill_alpha\":{\"value\":0.1},\"fill_color\":{\"value\":\"#440154\"},\"line_alpha\":{\"value\":0.1},\"line_color\":{\"value\":\"#440154\"},\"top\":{\"field\":\"ASSAULT\"},\"width\":{\"value\":0.5},\"x\":{\"field\":\"hours\"}},\"id\":\"1034\",\"type\":\"VBar\"},{\"attributes\":{\"fill_alpha\":{\"value\":0.5},\"fill_color\":{\"value\":\"#440154\"},\"line_alpha\":{\"value\":0.5},\"line_color\":{\"value\":\"#440154\"},\"top\":{\"field\":\"ASSAULT\"},\"width\":{\"value\":0.5},\"x\":{\"field\":\"hours\"}},\"id\":\"1035\",\"type\":\"VBar\"},{\"attributes\":{\"label\":{\"value\":\"ASSAULT\"},\"renderers\":[{\"id\":\"1036\"}]},\"id\":\"1117\",\"type\":\"LegendItem\"},{\"attributes\":{\"data_source\":{\"id\":\"1001\"},\"glyph\":{\"id\":\"1033\"},\"hover_glyph\":null,\"muted\":true,\"muted_glyph\":{\"id\":\"1035\"},\"nonselection_glyph\":{\"id\":\"1034\"},\"selection_glyph\":null,\"view\":{\"id\":\"1037\"}},\"id\":\"1036\",\"type\":\"GlyphRenderer\"},{\"attributes\":{\"label\":{\"value\":\"BURGLARY\"},\"renderers\":[{\"id\":\"1042\"}]},\"id\":\"1118\",\"type\":\"LegendItem\"},{\"attributes\":{\"source\":{\"id\":\"1001\"}},\"id\":\"1067\",\"type\":\"CDSView\"},{\"attributes\":{\"source\":{\"id\":\"1001\"}},\"id\":\"1037\",\"type\":\"CDSView\"},{\"attributes\":{\"fill_color\":{\"value\":\"#481C6E\"},\"line_color\":{\"value\":\"#481C6E\"},\"top\":{\"field\":\"BURGLARY\"},\"width\":{\"value\":0.5},\"x\":{\"field\":\"hours\"}},\"id\":\"1039\",\"type\":\"VBar\"},{\"attributes\":{\"label\":{\"value\":\"DISORDERLY CONDUCT\"},\"renderers\":[{\"id\":\"1048\"}]},\"id\":\"1119\",\"type\":\"LegendItem\"},{\"attributes\":{\"label\":{\"value\":\"DRUNKENNESS\"},\"renderers\":[{\"id\":\"1066\"}]},\"id\":\"1122\",\"type\":\"LegendItem\"},{\"attributes\":{\"label\":{\"value\":\"DRIVING UNDER THE INFLUENCE\"},\"renderers\":[{\"id\":\"1054\"}]},\"id\":\"1120\",\"type\":\"LegendItem\"},{\"attributes\":{\"label\":{\"value\":\"LARCENY/THEFT\"},\"renderers\":[{\"id\":\"1072\"}]},\"id\":\"1123\",\"type\":\"LegendItem\"},{\"attributes\":{\"data_source\":{\"id\":\"1001\"},\"glyph\":{\"id\":\"1075\"},\"hover_glyph\":null,\"muted\":true,\"muted_glyph\":{\"id\":\"1077\"},\"nonselection_glyph\":{\"id\":\"1076\"},\"selection_glyph\":null,\"view\":{\"id\":\"1079\"}},\"id\":\"1078\",\"type\":\"GlyphRenderer\"},{\"attributes\":{\"fill_alpha\":{\"value\":0.5},\"fill_color\":{\"value\":\"#481C6E\"},\"line_alpha\":{\"value\":0.5},\"line_color\":{\"value\":\"#481C6E\"},\"top\":{\"field\":\"BURGLARY\"},\"width\":{\"value\":0.5},\"x\":{\"field\":\"hours\"}},\"id\":\"1041\",\"type\":\"VBar\"},{\"attributes\":{\"label\":{\"value\":\"DRUG/NARCOTIC\"},\"renderers\":[{\"id\":\"1060\"}]},\"id\":\"1121\",\"type\":\"LegendItem\"},{\"attributes\":{\"fill_alpha\":{\"value\":0.1},\"fill_color\":{\"value\":\"#481C6E\"},\"line_alpha\":{\"value\":0.1},\"line_color\":{\"value\":\"#481C6E\"},\"top\":{\"field\":\"BURGLARY\"},\"width\":{\"value\":0.5},\"x\":{\"field\":\"hours\"}},\"id\":\"1040\",\"type\":\"VBar\"},{\"attributes\":{\"label\":{\"value\":\"STOLEN PROPERTY\"},\"renderers\":[{\"id\":\"1090\"}]},\"id\":\"1126\",\"type\":\"LegendItem\"},{\"attributes\":{\"data_source\":{\"id\":\"1001\"},\"glyph\":{\"id\":\"1039\"},\"hover_glyph\":null,\"muted\":true,\"muted_glyph\":{\"id\":\"1041\"},\"nonselection_glyph\":{\"id\":\"1040\"},\"selection_glyph\":null,\"view\":{\"id\":\"1043\"}},\"id\":\"1042\",\"type\":\"GlyphRenderer\"},{\"attributes\":{\"factors\":[\"0\",\"1\",\"2\",\"3\",\"4\",\"5\",\"6\",\"7\",\"8\",\"9\",\"10\",\"11\",\"12\",\"13\",\"14\",\"15\",\"16\",\"17\",\"18\",\"19\",\"20\",\"21\",\"22\",\"23\"]},\"id\":\"1002\",\"type\":\"FactorRange\"},{\"attributes\":{\"fill_alpha\":{\"value\":0.5},\"fill_color\":{\"value\":\"#FDE724\"},\"line_alpha\":{\"value\":0.5},\"line_color\":{\"value\":\"#FDE724\"},\"top\":{\"field\":\"WEAPON LAWS\"},\"width\":{\"value\":0.5},\"x\":{\"field\":\"hours\"}},\"id\":\"1113\",\"type\":\"VBar\"},{\"attributes\":{\"label\":{\"value\":\"TRESPASS\"},\"renderers\":[{\"id\":\"1096\"}]},\"id\":\"1127\",\"type\":\"LegendItem\"},{\"attributes\":{\"source\":{\"id\":\"1001\"}},\"id\":\"1043\",\"type\":\"CDSView\"},{\"attributes\":{\"label\":{\"value\":\"PROSTITUTION\"},\"renderers\":[{\"id\":\"1078\"}]},\"id\":\"1124\",\"type\":\"LegendItem\"},{\"attributes\":{\"fill_color\":{\"value\":\"#453580\"},\"line_color\":{\"value\":\"#453580\"},\"top\":{\"field\":\"DISORDERLY CONDUCT\"},\"width\":{\"value\":0.5},\"x\":{\"field\":\"hours\"}},\"id\":\"1045\",\"type\":\"VBar\"},{\"attributes\":{\"source\":{\"id\":\"1001\"}},\"id\":\"1079\",\"type\":\"CDSView\"},{\"attributes\":{\"label\":{\"value\":\"ROBBERY\"},\"renderers\":[{\"id\":\"1084\"}]},\"id\":\"1125\",\"type\":\"LegendItem\"},{\"attributes\":{\"fill_alpha\":{\"value\":0.5},\"fill_color\":{\"value\":\"#453580\"},\"line_alpha\":{\"value\":0.5},\"line_color\":{\"value\":\"#453580\"},\"top\":{\"field\":\"DISORDERLY CONDUCT\"},\"width\":{\"value\":0.5},\"x\":{\"field\":\"hours\"}},\"id\":\"1047\",\"type\":\"VBar\"},{\"attributes\":{\"fill_alpha\":{\"value\":0.1},\"fill_color\":{\"value\":\"#453580\"},\"line_alpha\":{\"value\":0.1},\"line_color\":{\"value\":\"#453580\"},\"top\":{\"field\":\"DISORDERLY CONDUCT\"},\"width\":{\"value\":0.5},\"x\":{\"field\":\"hours\"}},\"id\":\"1046\",\"type\":\"VBar\"},{\"attributes\":{\"label\":{\"value\":\"VANDALISM\"},\"renderers\":[{\"id\":\"1102\"}]},\"id\":\"1128\",\"type\":\"LegendItem\"},{\"attributes\":{\"data_source\":{\"id\":\"1001\"},\"glyph\":{\"id\":\"1045\"},\"hover_glyph\":null,\"muted\":true,\"muted_glyph\":{\"id\":\"1047\"},\"nonselection_glyph\":{\"id\":\"1046\"},\"selection_glyph\":null,\"view\":{\"id\":\"1049\"}},\"id\":\"1048\",\"type\":\"GlyphRenderer\"},{\"attributes\":{\"data_source\":{\"id\":\"1001\"},\"glyph\":{\"id\":\"1063\"},\"hover_glyph\":null,\"muted\":true,\"muted_glyph\":{\"id\":\"1065\"},\"nonselection_glyph\":{\"id\":\"1064\"},\"selection_glyph\":null,\"view\":{\"id\":\"1067\"}},\"id\":\"1066\",\"type\":\"GlyphRenderer\"},{\"attributes\":{\"label\":{\"value\":\"VEHICLE THEFT\"},\"renderers\":[{\"id\":\"1108\"}]},\"id\":\"1129\",\"type\":\"LegendItem\"},{\"attributes\":{\"label\":{\"value\":\"WEAPON LAWS\"},\"renderers\":[{\"id\":\"1114\"}]},\"id\":\"1130\",\"type\":\"LegendItem\"},{\"attributes\":{\"source\":{\"id\":\"1001\"}},\"id\":\"1049\",\"type\":\"CDSView\"},{\"attributes\":{\"fill_color\":{\"value\":\"#3D4B89\"},\"line_color\":{\"value\":\"#3D4B89\"},\"top\":{\"field\":\"DRIVING UNDER THE INFLUENCE\"},\"width\":{\"value\":0.5},\"x\":{\"field\":\"hours\"}},\"id\":\"1051\",\"type\":\"VBar\"},{\"attributes\":{\"fill_alpha\":{\"value\":0.5},\"fill_color\":{\"value\":\"#2B748E\"},\"line_alpha\":{\"value\":0.5},\"line_color\":{\"value\":\"#2B748E\"},\"top\":{\"field\":\"DRUNKENNESS\"},\"width\":{\"value\":0.5},\"x\":{\"field\":\"hours\"}},\"id\":\"1065\",\"type\":\"VBar\"},{\"attributes\":{\"fill_alpha\":{\"value\":0.5},\"fill_color\":{\"value\":\"#3D4B89\"},\"line_alpha\":{\"value\":0.5},\"line_color\":{\"value\":\"#3D4B89\"},\"top\":{\"field\":\"DRIVING UNDER THE INFLUENCE\"},\"width\":{\"value\":0.5},\"x\":{\"field\":\"hours\"}},\"id\":\"1053\",\"type\":\"VBar\"},{\"attributes\":{\"fill_alpha\":{\"value\":0.1},\"fill_color\":{\"value\":\"#3D4B89\"},\"line_alpha\":{\"value\":0.1},\"line_color\":{\"value\":\"#3D4B89\"},\"top\":{\"field\":\"DRIVING UNDER THE INFLUENCE\"},\"width\":{\"value\":0.5},\"x\":{\"field\":\"hours\"}},\"id\":\"1052\",\"type\":\"VBar\"},{\"attributes\":{\"data_source\":{\"id\":\"1001\"},\"glyph\":{\"id\":\"1069\"},\"hover_glyph\":null,\"muted\":true,\"muted_glyph\":{\"id\":\"1071\"},\"nonselection_glyph\":{\"id\":\"1070\"},\"selection_glyph\":null,\"view\":{\"id\":\"1073\"}},\"id\":\"1072\",\"type\":\"GlyphRenderer\"},{\"attributes\":{\"data_source\":{\"id\":\"1001\"},\"glyph\":{\"id\":\"1051\"},\"hover_glyph\":null,\"muted\":true,\"muted_glyph\":{\"id\":\"1053\"},\"nonselection_glyph\":{\"id\":\"1052\"},\"selection_glyph\":null,\"view\":{\"id\":\"1055\"}},\"id\":\"1054\",\"type\":\"GlyphRenderer\"},{\"attributes\":{\"fill_alpha\":{\"value\":0.1},\"fill_color\":{\"value\":\"#24AA82\"},\"line_alpha\":{\"value\":0.1},\"line_color\":{\"value\":\"#24AA82\"},\"top\":{\"field\":\"ROBBERY\"},\"width\":{\"value\":0.5},\"x\":{\"field\":\"hours\"}},\"id\":\"1082\",\"type\":\"VBar\"},{\"attributes\":{\"fill_alpha\":{\"value\":0.5},\"fill_color\":{\"value\":\"#24AA82\"},\"line_alpha\":{\"value\":0.5},\"line_color\":{\"value\":\"#24AA82\"},\"top\":{\"field\":\"ROBBERY\"},\"width\":{\"value\":0.5},\"x\":{\"field\":\"hours\"}},\"id\":\"1083\",\"type\":\"VBar\"},{\"attributes\":{\"source\":{\"id\":\"1001\"}},\"id\":\"1055\",\"type\":\"CDSView\"},{\"attributes\":{\"fill_color\":{\"value\":\"#33608D\"},\"line_color\":{\"value\":\"#33608D\"},\"top\":{\"field\":\"DRUG/NARCOTIC\"},\"width\":{\"value\":0.5},\"x\":{\"field\":\"hours\"}},\"id\":\"1057\",\"type\":\"VBar\"},{\"attributes\":{\"fill_alpha\":{\"value\":0.1},\"fill_color\":{\"value\":\"#24868D\"},\"line_alpha\":{\"value\":0.1},\"line_color\":{\"value\":\"#24868D\"},\"top\":{\"field\":\"LARCENY/THEFT\"},\"width\":{\"value\":0.5},\"x\":{\"field\":\"hours\"}},\"id\":\"1070\",\"type\":\"VBar\"},{\"attributes\":{\"fill_alpha\":{\"value\":0.5},\"fill_color\":{\"value\":\"#33608D\"},\"line_alpha\":{\"value\":0.5},\"line_color\":{\"value\":\"#33608D\"},\"top\":{\"field\":\"DRUG/NARCOTIC\"},\"width\":{\"value\":0.5},\"x\":{\"field\":\"hours\"}},\"id\":\"1059\",\"type\":\"VBar\"},{\"attributes\":{\"fill_alpha\":{\"value\":0.1},\"fill_color\":{\"value\":\"#33608D\"},\"line_alpha\":{\"value\":0.1},\"line_color\":{\"value\":\"#33608D\"},\"top\":{\"field\":\"DRUG/NARCOTIC\"},\"width\":{\"value\":0.5},\"x\":{\"field\":\"hours\"}},\"id\":\"1058\",\"type\":\"VBar\"},{\"attributes\":{\"data_source\":{\"id\":\"1001\"},\"glyph\":{\"id\":\"1057\"},\"hover_glyph\":null,\"muted\":true,\"muted_glyph\":{\"id\":\"1059\"},\"nonselection_glyph\":{\"id\":\"1058\"},\"selection_glyph\":null,\"view\":{\"id\":\"1061\"}},\"id\":\"1060\",\"type\":\"GlyphRenderer\"},{\"attributes\":{\"source\":{\"id\":\"1001\"}},\"id\":\"1073\",\"type\":\"CDSView\"},{\"attributes\":{\"fill_color\":{\"value\":\"#3EBC73\"},\"line_color\":{\"value\":\"#3EBC73\"},\"top\":{\"field\":\"STOLEN PROPERTY\"},\"width\":{\"value\":0.5},\"x\":{\"field\":\"hours\"}},\"id\":\"1087\",\"type\":\"VBar\"},{\"attributes\":{\"source\":{\"id\":\"1001\"}},\"id\":\"1061\",\"type\":\"CDSView\"},{\"attributes\":{\"fill_color\":{\"value\":\"#2B748E\"},\"line_color\":{\"value\":\"#2B748E\"},\"top\":{\"field\":\"DRUNKENNESS\"},\"width\":{\"value\":0.5},\"x\":{\"field\":\"hours\"}},\"id\":\"1063\",\"type\":\"VBar\"},{\"attributes\":{},\"id\":\"1019\",\"type\":\"WheelZoomTool\"},{\"attributes\":{},\"id\":\"1007\",\"type\":\"CategoricalScale\"},{\"attributes\":{\"active_drag\":\"auto\",\"active_inspect\":\"auto\",\"active_multi\":null,\"active_scroll\":\"auto\",\"active_tap\":\"auto\",\"tools\":[{\"id\":\"1018\"},{\"id\":\"1019\"},{\"id\":\"1020\"},{\"id\":\"1021\"},{\"id\":\"1022\"},{\"id\":\"1023\"}]},\"id\":\"1025\",\"type\":\"Toolbar\"},{\"attributes\":{\"source\":{\"id\":\"1001\"}},\"id\":\"1085\",\"type\":\"CDSView\"},{\"attributes\":{\"overlay\":{\"id\":\"1024\"}},\"id\":\"1020\",\"type\":\"BoxZoomTool\"},{\"attributes\":{\"fill_color\":{\"value\":\"#24868D\"},\"line_color\":{\"value\":\"#24868D\"},\"top\":{\"field\":\"LARCENY/THEFT\"},\"width\":{\"value\":0.5},\"x\":{\"field\":\"hours\"}},\"id\":\"1069\",\"type\":\"VBar\"},{\"attributes\":{},\"id\":\"1021\",\"type\":\"SaveTool\"},{\"attributes\":{},\"id\":\"1022\",\"type\":\"ResetTool\"},{\"attributes\":{\"fill_alpha\":{\"value\":0.1},\"fill_color\":{\"value\":\"#2B748E\"},\"line_alpha\":{\"value\":0.1},\"line_color\":{\"value\":\"#2B748E\"},\"top\":{\"field\":\"DRUNKENNESS\"},\"width\":{\"value\":0.5},\"x\":{\"field\":\"hours\"}},\"id\":\"1064\",\"type\":\"VBar\"},{\"attributes\":{\"fill_alpha\":{\"value\":0.1},\"fill_color\":{\"value\":\"#1E998A\"},\"line_alpha\":{\"value\":0.1},\"line_color\":{\"value\":\"#1E998A\"},\"top\":{\"field\":\"PROSTITUTION\"},\"width\":{\"value\":0.5},\"x\":{\"field\":\"hours\"}},\"id\":\"1076\",\"type\":\"VBar\"},{\"attributes\":{},\"id\":\"1023\",\"type\":\"HelpTool\"},{\"attributes\":{\"fill_alpha\":{\"value\":0.1},\"fill_color\":{\"value\":\"#3EBC73\"},\"line_alpha\":{\"value\":0.1},\"line_color\":{\"value\":\"#3EBC73\"},\"top\":{\"field\":\"STOLEN PROPERTY\"},\"width\":{\"value\":0.5},\"x\":{\"field\":\"hours\"}},\"id\":\"1088\",\"type\":\"VBar\"},{\"attributes\":{\"end\":0.15},\"id\":\"1005\",\"type\":\"Range1d\"},{\"attributes\":{\"fill_alpha\":{\"value\":0.5},\"fill_color\":{\"value\":\"#3EBC73\"},\"line_alpha\":{\"value\":0.5},\"line_color\":{\"value\":\"#3EBC73\"},\"top\":{\"field\":\"STOLEN PROPERTY\"},\"width\":{\"value\":0.5},\"x\":{\"field\":\"hours\"}},\"id\":\"1089\",\"type\":\"VBar\"},{\"attributes\":{\"data_source\":{\"id\":\"1001\"},\"glyph\":{\"id\":\"1087\"},\"hover_glyph\":null,\"muted\":true,\"muted_glyph\":{\"id\":\"1089\"},\"nonselection_glyph\":{\"id\":\"1088\"},\"selection_glyph\":null,\"view\":{\"id\":\"1091\"}},\"id\":\"1090\",\"type\":\"GlyphRenderer\"},{\"attributes\":{},\"id\":\"1009\",\"type\":\"LinearScale\"},{\"attributes\":{\"source\":{\"id\":\"1001\"}},\"id\":\"1091\",\"type\":\"CDSView\"},{\"attributes\":{\"fill_color\":{\"value\":\"#67CC5C\"},\"line_color\":{\"value\":\"#67CC5C\"},\"top\":{\"field\":\"TRESPASS\"},\"width\":{\"value\":0.5},\"x\":{\"field\":\"hours\"}},\"id\":\"1093\",\"type\":\"VBar\"},{\"attributes\":{},\"id\":\"1140\",\"type\":\"UnionRenderers\"},{\"attributes\":{\"fill_alpha\":{\"value\":0.5},\"fill_color\":{\"value\":\"#67CC5C\"},\"line_alpha\":{\"value\":0.5},\"line_color\":{\"value\":\"#67CC5C\"},\"top\":{\"field\":\"TRESPASS\"},\"width\":{\"value\":0.5},\"x\":{\"field\":\"hours\"}},\"id\":\"1095\",\"type\":\"VBar\"},{\"attributes\":{\"fill_alpha\":{\"value\":0.1},\"fill_color\":{\"value\":\"#67CC5C\"},\"line_alpha\":{\"value\":0.1},\"line_color\":{\"value\":\"#67CC5C\"},\"top\":{\"field\":\"TRESPASS\"},\"width\":{\"value\":0.5},\"x\":{\"field\":\"hours\"}},\"id\":\"1094\",\"type\":\"VBar\"},{\"attributes\":{},\"id\":\"1018\",\"type\":\"PanTool\"},{\"attributes\":{\"data_source\":{\"id\":\"1001\"},\"glyph\":{\"id\":\"1093\"},\"hover_glyph\":null,\"muted\":true,\"muted_glyph\":{\"id\":\"1095\"},\"nonselection_glyph\":{\"id\":\"1094\"},\"selection_glyph\":null,\"view\":{\"id\":\"1097\"}},\"id\":\"1096\",\"type\":\"GlyphRenderer\"},{\"attributes\":{},\"id\":\"1012\",\"type\":\"CategoricalTicker\"},{\"attributes\":{\"bottom_units\":\"screen\",\"fill_alpha\":0.5,\"fill_color\":\"lightgrey\",\"left_units\":\"screen\",\"level\":\"overlay\",\"line_alpha\":1.0,\"line_color\":\"black\",\"line_dash\":[4,4],\"line_width\":2,\"right_units\":\"screen\",\"top_units\":\"screen\"},\"id\":\"1024\",\"type\":\"BoxAnnotation\"},{\"attributes\":{\"source\":{\"id\":\"1001\"}},\"id\":\"1097\",\"type\":\"CDSView\"},{\"attributes\":{\"fill_color\":{\"value\":\"#95D73F\"},\"line_color\":{\"value\":\"#95D73F\"},\"top\":{\"field\":\"VANDALISM\"},\"width\":{\"value\":0.5},\"x\":{\"field\":\"hours\"}},\"id\":\"1099\",\"type\":\"VBar\"},{\"attributes\":{\"axis\":{\"id\":\"1011\"},\"ticker\":null},\"id\":\"1013\",\"type\":\"Grid\"},{\"attributes\":{},\"id\":\"1139\",\"type\":\"Selection\"},{\"attributes\":{\"axis_label\":\"Fraction of crime type\",\"formatter\":{\"id\":\"1138\"},\"ticker\":{\"id\":\"1015\"}},\"id\":\"1014\",\"type\":\"LinearAxis\"},{\"attributes\":{\"fill_alpha\":{\"value\":0.5},\"fill_color\":{\"value\":\"#1E998A\"},\"line_alpha\":{\"value\":0.5},\"line_color\":{\"value\":\"#1E998A\"},\"top\":{\"field\":\"PROSTITUTION\"},\"width\":{\"value\":0.5},\"x\":{\"field\":\"hours\"}},\"id\":\"1077\",\"type\":\"VBar\"},{\"attributes\":{\"fill_alpha\":{\"value\":0.5},\"fill_color\":{\"value\":\"#95D73F\"},\"line_alpha\":{\"value\":0.5},\"line_color\":{\"value\":\"#95D73F\"},\"top\":{\"field\":\"VANDALISM\"},\"width\":{\"value\":0.5},\"x\":{\"field\":\"hours\"}},\"id\":\"1101\",\"type\":\"VBar\"},{\"attributes\":{\"fill_alpha\":{\"value\":0.1},\"fill_color\":{\"value\":\"#95D73F\"},\"line_alpha\":{\"value\":0.1},\"line_color\":{\"value\":\"#95D73F\"},\"top\":{\"field\":\"VANDALISM\"},\"width\":{\"value\":0.5},\"x\":{\"field\":\"hours\"}},\"id\":\"1100\",\"type\":\"VBar\"},{\"attributes\":{\"data_source\":{\"id\":\"1001\"},\"glyph\":{\"id\":\"1099\"},\"hover_glyph\":null,\"muted\":true,\"muted_glyph\":{\"id\":\"1101\"},\"nonselection_glyph\":{\"id\":\"1100\"},\"selection_glyph\":null,\"view\":{\"id\":\"1103\"}},\"id\":\"1102\",\"type\":\"GlyphRenderer\"},{\"attributes\":{\"source\":{\"id\":\"1001\"}},\"id\":\"1103\",\"type\":\"CDSView\"},{\"attributes\":{\"fill_color\":{\"value\":\"#CAE01E\"},\"line_color\":{\"value\":\"#CAE01E\"},\"top\":{\"field\":\"VEHICLE THEFT\"},\"width\":{\"value\":0.5},\"x\":{\"field\":\"hours\"}},\"id\":\"1105\",\"type\":\"VBar\"},{\"attributes\":{},\"id\":\"1138\",\"type\":\"BasicTickFormatter\"},{\"attributes\":{\"fill_alpha\":{\"value\":0.5},\"fill_color\":{\"value\":\"#CAE01E\"},\"line_alpha\":{\"value\":0.5},\"line_color\":{\"value\":\"#CAE01E\"},\"top\":{\"field\":\"VEHICLE THEFT\"},\"width\":{\"value\":0.5},\"x\":{\"field\":\"hours\"}},\"id\":\"1107\",\"type\":\"VBar\"},{\"attributes\":{\"fill_alpha\":{\"value\":0.1},\"fill_color\":{\"value\":\"#CAE01E\"},\"line_alpha\":{\"value\":0.1},\"line_color\":{\"value\":\"#CAE01E\"},\"top\":{\"field\":\"VEHICLE THEFT\"},\"width\":{\"value\":0.5},\"x\":{\"field\":\"hours\"}},\"id\":\"1106\",\"type\":\"VBar\"},{\"attributes\":{},\"id\":\"1015\",\"type\":\"BasicTicker\"},{\"attributes\":{\"data_source\":{\"id\":\"1001\"},\"glyph\":{\"id\":\"1105\"},\"hover_glyph\":null,\"muted\":true,\"muted_glyph\":{\"id\":\"1107\"},\"nonselection_glyph\":{\"id\":\"1106\"},\"selection_glyph\":null,\"view\":{\"id\":\"1109\"}},\"id\":\"1108\",\"type\":\"GlyphRenderer\"},{\"attributes\":{\"axis\":{\"id\":\"1014\"},\"dimension\":1,\"ticker\":null},\"id\":\"1017\",\"type\":\"Grid\"},{\"attributes\":{\"source\":{\"id\":\"1001\"}},\"id\":\"1109\",\"type\":\"CDSView\"},{\"attributes\":{\"fill_color\":{\"value\":\"#FDE724\"},\"line_color\":{\"value\":\"#FDE724\"},\"top\":{\"field\":\"WEAPON LAWS\"},\"width\":{\"value\":0.5},\"x\":{\"field\":\"hours\"}},\"id\":\"1111\",\"type\":\"VBar\"},{\"attributes\":{\"data\":{\"ASSAULT\":{\"__ndarray__\":\"xBh/0PwlrT8sVp6nR9WoP85/d5dppqY/FFjMDI87mD80PsB6QqiNPyBqA0v5YYk/gL8AT0k+kD+vHia/lyyXP78OOqU5QKE/jeQFfkE+oj+nCHT6FYukP005rERDn6U/v9DBk9w6qz9bst1G3iCnP4ybs4vBeqc/VnX66uDzqT/MEInDzS+qP4W2d4l+Sqs/lxhgFHR3qj+urzfr+7WqP7lHpnSnp6o/8LmX2L+Uqz/mYocxKUuqP6rOdHIMJqk/\",\"dtype\":\"float64\",\"order\":\"little\",\"shape\":[24]},\"BURGLARY\":{\"__ndarray__\":\"X7Yyx/WTpD/DR+PPK1GcPzrIHWrjF6A/rBTTXIjGoD+fyiFRhxWeP+ybxAhgQpo/JTb5xeRwlz+xBe7Si4egP4dWVvCs7ag/LUwlKtMJpz/PUNnt9WSlP2L1PnFUd6Q/6s+6gEdZqj8j36Cj6juhP/dLs8BXZ6M/O8ZuJgtepj9yrOXTEvWpP2yxU+UZxbA/JpGvb48ZsT9YK1X96EarP5IekSBAZKg/oAvdPr6ypz84oV04IIamP1Mi7g5KNKU/\",\"dtype\":\"float64\",\"order\":\"little\",\"shape\":[24]},\"DISORDERLY CONDUCT\":{\"__ndarray__\":\"clJTI7TEqj/Tw0o3MKOjP0ecrbnlrKA/URtKm8MWkz+D3CQgwreOPwPL8djX064/QmW+Q7epvj/vzLgVHAC6P1EbSpvDFrM/dAyHBgs1qz/Z8eXgNPSkP89ySf9WiqI/hXPydERgnz9XSeVEyGekP3zR7wSSLp0/hy0mWJvQnz93gO7MuBWcP3CYH0BdVJo/x4p6cvvIoD9rRx4IhDuZP2HIgSam0ZY/YciBJqbRlj/NuBUcABqiP89ySf9WiqI/\",\"dtype\":\"float64\",\"order\":\"little\",\"shape\":[24]},\"DRIVING UNDER THE INFLUENCE\":{\"__ndarray__\":\"MpouHtMyvz/YkjEHalK9P5atYlWGQbk/1MrD7F6NqD/TxWNa5tORPxWrMgzK5IU/ybksOpyliT9E747W1IOBPyZC5c6x44A/BBSASeLlij+8ozX1YAR0P2KcON73I4I/2lDf/IOkhD+NX9kqVmWIPwQUgEni5Yo/Lc1gcU+0kz/zfM2G+uafP6oHI6AATKI/yLTMpyPsoj8VqzIMyuSlP8MzESp3jq0/ynfaL7b3sD9vsi8jM8W3P3zIJmhuZr0/\",\"dtype\":\"float64\",\"order\":\"little\",\"shape\":[24]},\"DRUG/NARCOTIC\":{\"__ndarray__\":\"E6+VVnX0oT+OqwvXoiOVP/NXgY+oI5E/KXZh2k2QiT/982W2dv6CP0pQ3PN8oXU/ST5za956hj/z7FG30VyZPw7qV4ddmqA/VF2+5A6Woz+QRqmjkN2jPwTjQ4i4+KY/0Og2m3irqj+7RT51BS+vP9ZO4ChrEq8/Bu/eHmrMsT84y+fsWR+0P1tJtT3aZrU/bcjbUhCWsj87ASTTXWWvPzODQ8vfhKc/4dhaenL0oz8mw4yT1FynP7f9mAZjwqQ/\",\"dtype\":\"float64\",\"order\":\"little\",\"shape\":[24]},\"DRUNKENNESS\":{\"__ndarray__\":\"Ba2yqfKMtD8SkxZpq8WzPzIBVdKv9LE/HqbzFQUGnD84gY6OAXqNP5te7boWwnQ/v26iDq6ugj8FrbKp8oyUP9H2fLj5pJE/H4hNIu8Alj93Tjhnf9WWP4F0f0iPS6A/ZOQDsUnknT+QR3nTkU6eP0OJL3z76qA/Ba2yqfKMpD+s9Zpe7bqmP1yCcOgNZKg/8kJ+87ybqz/hq9BP5qKpP+gNZBgiI68/hhb2MiIJsD/mL6FGY1uzP3zh21eHkLM/\",\"dtype\":\"float64\",\"order\":\"little\",\"shape\":[24]},\"Hour\":[0,1,2,3,4,5,6,7,8,9,10,11,12,13,14,15,16,17,18,19,20,21,22,23],\"LARCENY/THEFT\":{\"__ndarray__\":\"EE/ig4w2pD8ye4PzeAqaP29bqx7L9o8/UwGJk3xrhD+RC5cfu8x6Pz155ezLKHs/KTgw+oSZhD8HIQK7DgCPP+tSv+PKepo//VQbRa9aoD9AQdL6mQylPwtAB8JUn6c/FU6TALbFrD9JJXjYDr6pP1A5nIWuh6o/lZ68cvZlrD+qWyfUOfOtPz5xUMrEJLE/D9MsFZA4tT8SH2S0YR60P1KqcJoEsLE/CvkYDuvrrD/hPJ6CYlCrP0g9N0Akyqc/\",\"dtype\":\"float64\",\"order\":\"little\",\"shape\":[24]},\"PROSTITUTION\":{\"__ndarray__\":\"LZppe46YwD+bi4jn94K4P8SvYY9t8a4/6PeCWKyeoj8P4ZOWFfiTP3589L9b3oQ/wA5yGkNFgT9+fPS/W950P4tm2p4jJnQ/Vr5CIwQHZz9WvkIjBAd3PzvqdmV0d4g/HMt5dd0/oz/leKA84SSNPzvqdmV0d5g/00OJKxI1lz9C3+lUWBuYPxohOLgARJo/+wE7yGkMpT9ugqUYmQO0P4w7e/0RpLA/y3l13T8Tqz+bi4jn94K4P7+GPbbFe8A/\",\"dtype\":\"float64\",\"order\":\"little\",\"shape\":[24]},\"ROBBERY\":{\"__ndarray__\":\"cce6IVfGrD//nuzvyf6uP5/0SZ/0Sa8/b5PxNhlvoz/abfEybISYP3JpeezrHJQ/RxJyJCFHkj/1EE4P4fSQP45pPO4bOZQ/M2yEGJzdlj8hxbv8ZnaaPxjJJzwnbZ4/KxKvIvEqoj/+kuUvWf6iP6K+ypRW96M/cGpU/JsapT8/7UApZOmnPw+Y74D5Dqg/eMQp8kbNqT+p8N1fNFOrP7BzUJBcWq4/s1EyGyWzsT/1EE4P4fSwP0wQvATBS7A/\",\"dtype\":\"float64\",\"order\":\"little\",\"shape\":[24]},\"STOLEN PROPERTY\":{\"__ndarray__\":\"64FtZ3unpj9QKGPGW0yhP0RrVnYNZp4/bJ2xSnjilz9MLNy+Q9iUP3aVv1moypA/pGyzgQCpkT8hw/gj3+WYP+i8biZdqZw/mwIc7fRIoD9+/1busyqiPwFSI5iq26U/snvjaflqqj8NKsu5qSesP0qeZUQfUK0/91kViXrzrD8TtMg75iOwP0xzF/xVnLA/ujxpsi/dsD9R0XQSMTqsPwvzQvOvsak/N5OuVA4aqD/Vsbc2THOnP4A237StoKQ/\",\"dtype\":\"float64\",\"order\":\"little\",\"shape\":[24]},\"TRESPASS\":{\"__ndarray__\":\"cjZJCdOjnD8WRmmxK7OVP2/X7AsyAJo/a7VAnjfllT914yvNl92PPz+AoGI95KM/Ew5Ql5xasz8o+XE2SQmzPxCIsLbpa7A/cl2M7OTurD9v1+wLMgCqP0QXFnpt4Kg/cP4v70NLqj9EPlldfyupP+rTGOaKKaU/QnsJ7SW0pz/A/dSnMcylP5YATobGI6Y/6qzVAnnepD+9UPLjbJKiPz1vyivA1qE/Ef15YB9NoT90bmIjYvyePx7YR1NEf54/\",\"dtype\":\"float64\",\"order\":\"little\",\"shape\":[24]},\"VANDALISM\":{\"__ndarray__\":\"rgQE780hrD/c6lQFL8CjPyEG2QfYbaI/+H0/UW+lmj+oO35/TjmSPyLK65NzC44/9LjJN/h3kT8ma02GBSqWPzuDKWqdEKA/f7qh5xpXnj9QUDsPizigP0i1M65ScJ4/T1f4LcAepD+JBIV4TwqgP5jMIzpZ56E/kXEZo408pT80L9zxBkynPyTO++l7xq4/4vPXPhvGsj/Oz4lInXCxP4sIlc5XxbA/V7ICxYvJsD9L9IvaFsCwP26ge8gx1a4/\",\"dtype\":\"float64\",\"order\":\"little\",\"shape\":[24]},\"VEHICLE THEFT\":{\"__ndarray__\":\"ZrJRrDhjoj+WIx7tM7GYP6G8mcf4q5I/AWkDGAlAiD/kU7/MzoCEP5ngQqwHdoQ/AZ8ySe9Hjz/nRhO9iE2XPwNfslKG3KA/EZwI7Cn6oD+ds1YhDQ2gP/1/AO3R1pw/Zk3pxCvnpT8E9+4gtpCeP/7EKFkqHaI/VvqjdVb3pT/2HgFvH++qP0vvesBttbE/pDrlksthtT8YchCPw/iyP12qHCXkiLQ/3fK/ThyZsj+LudvIlSq0P7kXFJ4idrA/\",\"dtype\":\"float64\",\"order\":\"little\",\"shape\":[24]},\"WEAPON LAWS\":{\"__ndarray__\":\"X3M9ZgLcqz+z0vyEijekP8cCgRsO16A/vUgSQ2dIlz/8QhPf7Q+RP/MbsuXfNn4/d69i4majhz/e+kx9qCCWP1b9J6gly5g/r2iIrI5OoD+jGwz1TgqgPweQj5YtVKE/lFX8NsdTpz+D/N6ZpuenP8FUsyhIcKY/X3M9ZgLcqz/dtvNi3qKvP4zQx0qeua8/35x5io1fsT/+yONR3qOwP19zPWYC3Ks/O4zIP0MPqz/mLuviXhuwP7ym5TWCCaw/\",\"dtype\":\"float64\",\"order\":\"little\",\"shape\":[24]},\"hours\":[\"0\",\"1\",\"2\",\"3\",\"4\",\"5\",\"6\",\"7\",\"8\",\"9\",\"10\",\"11\",\"12\",\"13\",\"14\",\"15\",\"16\",\"17\",\"18\",\"19\",\"20\",\"21\",\"22\",\"23\"]},\"selected\":{\"id\":\"1139\"},\"selection_policy\":{\"id\":\"1140\"}},\"id\":\"1001\",\"type\":\"ColumnDataSource\"},{\"attributes\":{},\"id\":\"1136\",\"type\":\"CategoricalTickFormatter\"},{\"attributes\":{\"data_source\":{\"id\":\"1001\"},\"glyph\":{\"id\":\"1111\"},\"hover_glyph\":null,\"muted\":true,\"muted_glyph\":{\"id\":\"1113\"},\"nonselection_glyph\":{\"id\":\"1112\"},\"selection_glyph\":null,\"view\":{\"id\":\"1115\"}},\"id\":\"1114\",\"type\":\"GlyphRenderer\"},{\"attributes\":{\"axis_label\":\"Count\",\"formatter\":{\"id\":\"1136\"},\"ticker\":{\"id\":\"1012\"}},\"id\":\"1011\",\"type\":\"CategoricalAxis\"},{\"attributes\":{\"fill_alpha\":{\"value\":0.1},\"fill_color\":{\"value\":\"#FDE724\"},\"line_alpha\":{\"value\":0.1},\"line_color\":{\"value\":\"#FDE724\"},\"top\":{\"field\":\"WEAPON LAWS\"},\"width\":{\"value\":0.5},\"x\":{\"field\":\"hours\"}},\"id\":\"1112\",\"type\":\"VBar\"},{\"attributes\":{\"click_policy\":\"hide\",\"items\":[{\"id\":\"1117\"},{\"id\":\"1118\"},{\"id\":\"1119\"},{\"id\":\"1120\"},{\"id\":\"1121\"},{\"id\":\"1122\"},{\"id\":\"1123\"},{\"id\":\"1124\"},{\"id\":\"1125\"},{\"id\":\"1126\"},{\"id\":\"1127\"},{\"id\":\"1128\"},{\"id\":\"1129\"},{\"id\":\"1130\"}],\"location\":\"center\"},\"id\":\"1116\",\"type\":\"Legend\"}],\"root_ids\":[\"1003\"]},\"title\":\"Bokeh Application\",\"version\":\"2.1.1\"}};\n",
              "  var render_items = [{\"docid\":\"810d1db7-34fc-4cc8-a30a-a4b494ea716d\",\"root_ids\":[\"1003\"],\"roots\":{\"1003\":\"2f09c2a9-8909-4f35-b875-34fad02ae091\"}}];\n",
              "  root.Bokeh.embed.embed_items_notebook(docs_json, render_items);\n",
              "\n",
              "  }\n",
              "  if (root.Bokeh !== undefined) {\n",
              "    embed_document(root);\n",
              "  } else {\n",
              "    var attempts = 0;\n",
              "    var timer = setInterval(function(root) {\n",
              "      if (root.Bokeh !== undefined) {\n",
              "        clearInterval(timer);\n",
              "        embed_document(root);\n",
              "      } else {\n",
              "        attempts++;\n",
              "        if (attempts > 100) {\n",
              "          clearInterval(timer);\n",
              "          console.log(\"Bokeh: ERROR: Unable to run BokehJS code because BokehJS library is missing\");\n",
              "        }\n",
              "      }\n",
              "    }, 10, root)\n",
              "  }\n",
              "})(window);"
            ],
            "application/vnd.bokehjs_exec.v0+json": ""
          },
          "metadata": {
            "tags": [],
            "application/vnd.bokehjs_exec.v0+json": {
              "id": "1003"
            }
          }
        }
      ]
    },
    {
      "cell_type": "markdown",
      "metadata": {
        "id": "2AjBNv8_3Ebh"
      },
      "source": [
        "As seen from the interactive Bokeh visualization the focus crimes are very similarly distributed during a day. However TRESPASS and DISORDERLY CONDUCT mostly happens during the morning hours and PROSTITUTION and DRIVING UNDER THE INFLUENCE that seems centered around midnight."
      ]
    }
  ]
}